{
 "cells": [
  {
   "cell_type": "code",
   "execution_count": 2,
   "metadata": {
    "collapsed": true
   },
   "outputs": [],
   "source": [
    "import pandas as pd\n",
    "import numpy as np"
   ]
  },
  {
   "cell_type": "code",
   "execution_count": 29,
   "metadata": {
    "collapsed": true,
    "scrolled": true
   },
   "outputs": [],
   "source": [
    "# MOB_spatialDE\n",
    "for i in np.arange(12)+1:\n",
    "        oo = 'SpatialDE_results/spatial_row/MOB'+str(i)+'_final_results.csv'\n",
    "        counts = pd.read_csv(oo)\n",
    "        counts=counts[counts.qval<0.05]\n",
    "        counts=counts[counts.g.values != 'log_total_count']\n",
    "        counts.to_csv('SpatialDE_results/spatial_DE/MOB_{}_DE.csv'.format(i))"
   ]
  },
  {
   "cell_type": "code",
   "execution_count": 30,
   "metadata": {
    "collapsed": true
   },
   "outputs": [],
   "source": [
    "# BC_spatialDE\n",
    "for i in np.arange(4)+1:\n",
    "        oo = 'SpatialDE_results/spatial_row/Layer'+str(i)+'.csv'\n",
    "        counts = pd.read_csv(oo)\n",
    "        counts=counts[counts.qval<0.05]\n",
    "        counts=counts[counts.g.values != 'log_total_count']\n",
    "        counts.to_csv('SpatialDE_results/spatial_DE/BC_{}_DE.csv'.format(i))"
   ]
  },
  {
   "cell_type": "code",
   "execution_count": 31,
   "metadata": {
    "collapsed": true
   },
   "outputs": [],
   "source": [
    "# Mouse_hippo_spatialDE\n",
    "lower = 33\n",
    "upper = 53\n",
    "for i in np.arange(lower, upper+1):\n",
    "        oo = 'SpatialDE_results/spatial_row/field_'+str(i)+'finally_result.csv' \n",
    "        counts = pd.read_csv(oo)\n",
    "        counts=counts[counts.qval<0.05]\n",
    "        counts=counts[counts.g.values != 'log_total_count']\n",
    "        counts.to_csv('SpatialDE_results/spatial_DE/serFish_{}_DE.csv'.format(i))"
   ]
  },
  {
   "cell_type": "code",
   "execution_count": 5,
   "metadata": {
    "collapsed": true
   },
   "outputs": [],
   "source": [
    "# merfish_spatialDE\n",
    "de = 'SpatialDE_results/spatial_row/middle_final_results.csv' \n",
    "counts = pd.read_csv(de)\n",
    "counts=counts[counts.qval<0.05]\n",
    "counts=counts[counts.g.values != 'log_total_count']\n",
    "counts.to_csv('SpatialDE_results/spatial_DE/merFish_DE.csv')"
   ]
  },
  {
   "cell_type": "code",
   "execution_count": null,
   "metadata": {
    "collapsed": true
   },
   "outputs": [],
   "source": []
  },
  {
   "cell_type": "code",
   "execution_count": null,
   "metadata": {
    "collapsed": true
   },
   "outputs": [],
   "source": [
    "# MOB_scGCO\n",
    "N1=[10,11]\n",
    "for i in N1:\n",
    "        oo = 'Final-scGCO/scGCO_final_pred/MOB_Rep'+str(i)+'_poisson_p_fast_com9.csv'\n",
    "        counts = pd.read_csv(oo)\n",
    "        counts=counts[counts.qval<0.01]\n",
    "        counts=counts[counts.g.values != 'log_total_count']\n",
    "        counts.to_csv('Final-scGCO/scGCO_DE/MOB_{}_DE.csv'.format(i))\n",
    "\n",
    "N2=[1,2,3,4,5,6,7,8,9,12]\n",
    "for i in N2:\n",
    "        oo = 'Final-scGCO/scGCO_final_pred/MOB_Rep'+str(i)+'_poisson_p_fast_com9.csv'\n",
    "        counts = pd.read_csv(oo)\n",
    "        counts=counts[counts.qval<0.05]\n",
    "        counts=counts[counts.g.values != 'log_total_count']\n",
    "        counts.to_csv('Final-scGCO/scGCO_DE/MOB_{}_DE.csv'.format(i))\n"
   ]
  },
  {
   "cell_type": "code",
   "execution_count": 27,
   "metadata": {
    "collapsed": true
   },
   "outputs": [],
   "source": [
    "# BC_scGCO\n",
    "for i in np.arange(4)+1:\n",
    "        gco = 'Final-scGCO/scGCO_final_pred/Layer'+str(i)+'_poisson_p_fast_com9.csv'\n",
    "        counts_gco = pd.read_csv(gco)\n",
    "        counts_gco=counts_gco[counts_gco.fdr<0.05]\n",
    "        counts_gco.to_csv('Final-scGCO/scGCO_DE/BC_{}_DE.csv'.format(i))"
   ]
  },
  {
   "cell_type": "code",
   "execution_count": 17,
   "metadata": {
    "collapsed": true
   },
   "outputs": [],
   "source": [
    "# mouse_hippo_scGCO\n",
    "for i in np.arange(33, 53+1):\n",
    "        oo = 'Final-scGCO/scGCO_final_pred/mouse-hipo_field-'+str(i)+'_poisson_p_fast_com9.csv'\n",
    "        counts = pd.read_csv(oo)\n",
    "        counts=counts[counts.fdr<0.05]\n",
    "        counts.to_csv('Final-scGCO/scGCO_DE/serFish_{}_DE.csv'.format(i))"
   ]
  },
  {
   "cell_type": "code",
   "execution_count": 6,
   "metadata": {
    "collapsed": true
   },
   "outputs": [],
   "source": [
    "# merfish_scGCO\n",
    "gco = 'Final-scGCO/scGCO_final_pred/merFISH_middle_poisson_p_fast_com9.csv' \n",
    "counts_gco = pd.read_csv(gco)\n",
    "counts_gco=counts_gco[counts_gco.fdr<0.05]\n",
    "counts_gco.to_csv('Final-scGCO/scGCO_DE/merFish_DE.csv')"
   ]
  },
  {
   "cell_type": "code",
   "execution_count": null,
   "metadata": {
    "collapsed": true
   },
   "outputs": [],
   "source": []
  }
 ],
 "metadata": {
  "kernelspec": {
   "display_name": "Python 3",
   "language": "python",
   "name": "python3"
  },
  "language_info": {
   "codemirror_mode": {
    "name": "ipython",
    "version": 3
   },
   "file_extension": ".py",
   "mimetype": "text/x-python",
   "name": "python",
   "nbconvert_exporter": "python",
   "pygments_lexer": "ipython3",
   "version": "3.6.5"
  }
 },
 "nbformat": 4,
 "nbformat_minor": 2
}
