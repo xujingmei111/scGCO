{
 "cells": [
  {
   "cell_type": "code",
   "execution_count": 1,
   "metadata": {
    "collapsed": true
   },
   "outputs": [],
   "source": [
    "setwd('~/single_cell_project/spatial/Trendsceek/')"
   ]
  },
  {
   "cell_type": "code",
   "execution_count": 2,
   "metadata": {
    "scrolled": true
   },
   "outputs": [
    {
     "name": "stderr",
     "output_type": "stream",
     "text": [
      "Warning message:\n",
      "“package ‘dplyr’ was built under R version 3.4.4”\n",
      "Attaching package: ‘dplyr’\n",
      "\n",
      "The following objects are masked from ‘package:stats’:\n",
      "\n",
      "    filter, lag\n",
      "\n",
      "The following objects are masked from ‘package:base’:\n",
      "\n",
      "    intersect, setdiff, setequal, union\n",
      "\n",
      "Loading required package: ggplot2\n",
      "Warning message:\n",
      "“package ‘ggplot2’ was built under R version 3.4.4”Loading required package: cowplot\n",
      "\n",
      "Attaching package: ‘cowplot’\n",
      "\n",
      "The following object is masked from ‘package:ggplot2’:\n",
      "\n",
      "    ggsave\n",
      "\n",
      "Loading required package: Matrix\n",
      "Warning message:\n",
      "“package ‘data.table’ was built under R version 3.4.4”\n",
      "Attaching package: ‘data.table’\n",
      "\n",
      "The following objects are masked from ‘package:dplyr’:\n",
      "\n",
      "    between, first, last\n",
      "\n"
     ]
    }
   ],
   "source": [
    "library('trendsceek')\n",
    "library(\"dplyr\")\n",
    "library('Seurat')\n",
    "library('data.table')"
   ]
  },
  {
   "cell_type": "code",
   "execution_count": 3,
   "metadata": {
    "collapsed": true
   },
   "outputs": [],
   "source": [
    "winsorize <- function(x, n.win = 1){\n",
    "###Winsorize extreme values\n",
    "###Ex: Two most extreme values (from each side):\n",
    "###t(apply(ed, 1, winsorize, 2))\n",
    "\n",
    "    n.vals = length(x)\n",
    "    fraction = n.win / n.vals\n",
    "    if(length(fraction) != 1 || fraction < 0 || fraction > 0.5){\n",
    "        stop(\"bad value for 'fraction'\")\n",
    "    }\n",
    "\n",
    "    win.sorted.ind = order(x)\n",
    "    x[win.sorted.ind[1:n.win]] = x[win.sorted.ind[n.win + 1]]\n",
    "    x[win.sorted.ind[(n.vals - n.win + 1):n.vals]] = x[win.sorted.ind[n.vals - n.win]]\n",
    "\n",
    "    ##fraction-based\n",
    "    if(0){\n",
    "        lim = stats::quantile(x, probs = c(fraction, 1 - fraction))\n",
    "\n",
    "        ##set extreme values\n",
    "        x[ x < lim[1] ] = lim[1]\n",
    "        x[ x > lim[2] ] = lim[2]\n",
    "    }\n",
    "    \n",
    "    return(x)\n",
    "}"
   ]
  },
  {
   "cell_type": "code",
   "execution_count": null,
   "metadata": {
    "collapsed": true
   },
   "outputs": [],
   "source": [
    "for (i in 33:53){\n",
    "#i=43\n",
    "df=paste0('Data/field_',i,'_counts_0.csv')\n",
    "data=read.csv(df,header = T,row.names=1)\n",
    "counts=t(data)\n",
    "win.counts=t(apply(counts,1,winsorize,4))\n",
    "Rep<-genefilter_exprmat(counts,min.expr=5,min.ncells.expr = 3)\n",
    "Rep <-CreateSeuratObject(raw.data = Rep ,min.cells = 3,min.genes = 5 )\n",
    "Rep_filt<- FilterCells(Rep, subset.names = \"nGene\", low.thresholds = 500, high.thresholds = Inf)\n",
    "n.gene=nrow(Rep_filt@raw.data)\n",
    "n.cell=ncol(Rep_filt@raw.data)\n",
    "Rep<-NormalizeData(Rep_filt,normalization.method = \"LogNormalize\",scale.factor = 10000)\n",
    "\n",
    "info<-read.csv(paste0('Data/field_',i,'_sample_info_0.csv'),row.names=1)\n",
    "corr<-data.frame(x=info$x,y=info$y)\n",
    "dim(corr)\n",
    "pp=pos2pp(corr)\n",
    "pp=set_marks(pp,win.counts,log.fcn = log10,pseudo.count=1)\n",
    "sub_pp=head(colnames(pp$marks),10)\n",
    "#pp2plot\n",
    "pp2plot=pp_select(pp,sub_pp)\n",
    "\n",
    "\n",
    "\n",
    "\n",
    "#t0<-Sys.time() \n",
    "trendstat_list = trendsceek_test(pp)\n",
    "#t1<-Sys.time()\n",
    "\n",
    "sig_list_0.05 = extract_sig_genes(trendstat_list, alpha=0.05)\n",
    "lapply(sig_list_0.05, nrow)\n",
    "\n",
    "sig_genes<-sig_list_0.05$Emark$gene\n",
    "p.bh<-sig_list_0.05$Emark$p.bh\n",
    "df_E<-data.frame(sig_genes,p.bh)\n",
    "fwrite(df_E,paste0('running_results/middle_resule/field_',i,'Emark_0.05.csv'))\n",
    "\n",
    "sig_genes<-sig_list_0.05$markcorr$gene\n",
    "p.bh<-sig_list_0.05$markcorr$p.bh\n",
    "df_c<-data.frame(sig_genes,p.bh)\n",
    "fwrite(df_c,paste0('running_results/middle_resule/field_',i,'markcorr_0.05.csv'))\n",
    "\n",
    "\n",
    "    }"
   ]
  },
  {
   "cell_type": "code",
   "execution_count": null,
   "metadata": {
    "collapsed": true
   },
   "outputs": [],
   "source": []
  },
  {
   "cell_type": "code",
   "execution_count": null,
   "metadata": {
    "collapsed": true
   },
   "outputs": [],
   "source": [
    "\n"
   ]
  }
 ],
 "metadata": {
  "kernelspec": {
   "display_name": "R",
   "language": "R",
   "name": "ir"
  },
  "language_info": {
   "codemirror_mode": "r",
   "file_extension": ".r",
   "mimetype": "text/x-r-source",
   "name": "R",
   "pygments_lexer": "r",
   "version": "3.4.3"
  }
 },
 "nbformat": 4,
 "nbformat_minor": 2
}
