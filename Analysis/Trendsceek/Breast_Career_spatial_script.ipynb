{
 "cells": [
  {
   "cell_type": "code",
   "execution_count": 1,
   "metadata": {},
   "outputs": [
    {
     "name": "stderr",
     "output_type": "stream",
     "text": [
      "Loading required package: ggplot2\n",
      "Loading required package: cowplot\n",
      "\n",
      "Attaching package: ‘cowplot’\n",
      "\n",
      "The following object is masked from ‘package:ggplot2’:\n",
      "\n",
      "    ggsave\n",
      "\n",
      "Loading required package: Matrix\n",
      "Warning message:\n",
      "“package ‘data.table’ was built under R version 3.4.4”"
     ]
    }
   ],
   "source": [
    "library(Seurat)\n",
    "library(trendsceek)\n",
    "library(data.table)"
   ]
  },
  {
   "cell_type": "code",
   "execution_count": null,
   "metadata": {
    "collapsed": true
   },
   "outputs": [],
   "source": [
    "for (i in 1:4){\n",
    "Rep <-read.table(paste0('../Data/Layer',i,'1_BC_count_matrix-1.tsv'),sep=\"\\t\",header = T,row.names = 1)\n",
    "Rep <-t(Rep)\n",
    "\n",
    "Rep<-genefilter_exprmat(Rep ,min.expr=5,min.ncells.expr = 3)\n",
    "Rep <-CreateSeuratObject(raw.data = Rep ,min.cells = 3,min.genes = 5 )\n",
    "Rep_filt<- FilterCells(Rep, subset.names = \"nGene\", low.thresholds = 500, high.thresholds = Inf)\n",
    "Rep<-NormalizeData(Rep_filt,normalization.method = \"LogNormalize\",scale.factor = 10000)\n",
    "Rep<-FindVariableGenes(Rep,mean.function = ExpMean,dispersion.function = LogVMR,do.plot=F)\n",
    "                        # x.low.cutoff = 0.2,x.high.cutoff = 1.5,y.cutoff = -0.5)\n",
    "\n",
    "# Select highly variable genes  \n",
    "gene<-nrow(Rep@hvg.info)\n",
    "\n",
    "i=500              \n",
    "  if (gene >= i){\n",
    "    top_gene=head(rownames(Rep@hvg.info),i)\n",
    " }else{\n",
    " top_gene=rownames(Rep@hvg.info)\n",
    "      }\n",
    "\n",
    "# standard scaling (no regression)\n",
    "Rep_top<-Rep@raw.data[top_gene,]\n",
    "Rep <-ScaleData(Rep,genes.use = top_gene,display.progress = F)\n",
    "\n",
    "corrder<-strsplit(colnames(Rep_top),'x')\n",
    "x<-sapply(corrder,'[',1)\n",
    "y<-sapply(corrder,'[',2)\n",
    "x<-as.numeric(x)  ### input data.frame is number matrix\n",
    "y<-as.numeric(y)\n",
    "info<-data.frame(x,y)\n",
    "\n",
    "pp=pos2pp(info) \n",
    "## Convert cell positions(corrder) to point pattern,\n",
    "\n",
    "pp=set_marks(pp,Rep_top,log.fcn = log10,pseudo.count = 1)\n",
    "\n",
    "# topvar.genes =head(rownames((Rep@hvg.info),10))\n",
    "# pp2plot = pp_select(pp, topvar.genes)\n",
    "# plot_pp_scatter(pp, log_marks = FALSE, scale_marks = FALSE, pal.direction = -1)\n",
    "\n",
    "t0<-Sys.time()\n",
    "trendstat_list = trendsceek_test(pp,nrand=10000)\n",
    "t1<-Sys.time()\n",
    "t<-difftime(t1,t0,units = 'mins')\n",
    "\n",
    "gene<-as.character(i)\n",
    "time_min<-as.numeric(t)\n",
    "test_time<-data.frame(gene,time_min)\n",
    "\n",
    "alpha = 0.05   ##Benjamini-Hochberg\n",
    "sig_list = extract_sig_genes(trendstat_list, alpha)\n",
    "\n",
    "sig_gene_v<-sig_list$markvario$gene\n",
    "\n",
    "sig_gene_c<-sig_list$markcorr$gene\n",
    "\n",
    "sig_genes=union(sig_gene_v,sig_gene_c)\n",
    "\n",
    "df_sig=data.frame(sig_gene=sig_genes)\n",
    "\n",
    "write.csv(df_sig,paste0('results/BC',i,'_sig_gene_list.csv')\n",
    "}"
   ]
  },
  {
   "cell_type": "code",
   "execution_count": null,
   "metadata": {
    "collapsed": true
   },
   "outputs": [],
   "source": []
  }
 ],
 "metadata": {
  "kernelspec": {
   "display_name": "R",
   "language": "R",
   "name": "ir"
  },
  "language_info": {
   "codemirror_mode": "r",
   "file_extension": ".r",
   "mimetype": "text/x-r-source",
   "name": "R",
   "pygments_lexer": "r",
   "version": "3.4.3"
  }
 },
 "nbformat": 4,
 "nbformat_minor": 2
}
