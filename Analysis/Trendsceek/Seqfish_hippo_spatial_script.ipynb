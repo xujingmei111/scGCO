{
 "cells": [
  {
   "cell_type": "code",
   "execution_count": 5,
   "metadata": {
    "scrolled": true
   },
   "outputs": [],
   "source": [
    "library('trendsceek')\n",
    "library(\"dplyr\")\n",
    "library('Seurat')\n",
    "library('data.table')"
   ]
  },
  {
   "cell_type": "code",
   "execution_count": 6,
   "metadata": {
    "collapsed": true
   },
   "outputs": [],
   "source": [
    "winsorize <- function(x, n.win = 1){\n",
    "###Winsorize extreme values\n",
    "###Ex: Two most extreme values (from each side):\n",
    "###t(apply(ed, 1, winsorize, 2))\n",
    "\n",
    "    n.vals = length(x)\n",
    "    fraction = n.win / n.vals\n",
    "    if(length(fraction) != 1 || fraction < 0 || fraction > 0.5){\n",
    "        stop(\"bad value for 'fraction'\")\n",
    "    }\n",
    "\n",
    "    win.sorted.ind = order(x)\n",
    "    x[win.sorted.ind[1:n.win]] = x[win.sorted.ind[n.win + 1]]\n",
    "    x[win.sorted.ind[(n.vals - n.win + 1):n.vals]] = x[win.sorted.ind[n.vals - n.win]]\n",
    "\n",
    "    ##fraction-based\n",
    "    if(0){\n",
    "        lim = stats::quantile(x, probs = c(fraction, 1 - fraction))\n",
    "\n",
    "        ##set extreme values\n",
    "        x[ x < lim[1] ] = lim[1]\n",
    "        x[ x > lim[2] ] = lim[2]\n",
    "    }\n",
    "    \n",
    "    return(x)\n",
    "}"
   ]
  },
  {
   "cell_type": "code",
   "execution_count": null,
   "metadata": {
    "collapsed": true
   },
   "outputs": [],
   "source": [
    "i=43\n",
    "ff=paste0('Data/field_',i,'_counts_0.csv')\n",
    "df=read.csv(ff,header = T,row.names=2)\n",
    "data=df[2:dim(df)[2]]\n",
    "counts=t(data)\n",
    "win.counts=t(apply(counts,1,winsorize,4))\n",
    "Rep<-genefilter_exprmat(counts,min.expr=5,min.ncells.expr = 3)\n",
    "Rep <-CreateSeuratObject(raw.data = Rep ,min.cells = 3,min.genes = 5 )\n",
    "Rep_filt<- FilterCells(Rep, subset.names = \"nGene\", low.thresholds = 500, high.thresholds = Inf)\n",
    "n.gene=nrow(Rep_filt@raw.data)\n",
    "n.cell=ncol(Rep_filt@raw.data)\n",
    "Rep<-NormalizeData(Rep_filt,normalization.method = \"LogNormalize\",scale.factor = 10000)\n",
    "\n",
    "info<-read.csv(paste0('Data/field_',i,'_sample_info_0.csv'),row.names=1)\n",
    "corr<-data.frame(x=info$x,y=info$y)\n",
    "dim(corr)\n",
    "pp=pos2pp(corr)\n",
    "pp=set_marks(pp,win.counts,log.fcn = log10,pseudo.count=1)\n",
    "sub_pp=head(colnames(pp$marks),10)\n",
    "#pp2plot\n",
    "pp2plot=pp_select(pp,sub_pp)\n",
    "\n",
    "#t0<-Sys.time() \n",
    "trendstat_list = trendsceek_test(pp,nrand=10000)\n",
    "#t1<-Sys.time()\n",
    "\n",
    "sig_list = extract_sig_genes(trendstat_list, alpha=0.05)\n",
    "lapply(sig_list, nrow)\n",
    "\n",
    "sig_gene_v<-sig_list$markvario$gene\n",
    "\n",
    "sig_gene_c<-sig_list$markcorr$gene\n",
    "\n",
    "sig_genes=union(sig_gene_v,sig_gene_c)\n",
    "\n",
    "df_sig=data.frame(field=str(i),n.cell=n.cell,sig_gene=sig_genes)\n"
   ]
  },
  {
   "cell_type": "code",
   "execution_count": null,
   "metadata": {
    "collapsed": true
   },
   "outputs": [],
   "source": []
  },
  {
   "cell_type": "code",
   "execution_count": null,
   "metadata": {
    "collapsed": true
   },
   "outputs": [],
   "source": [
    "\n"
   ]
  }
 ],
 "metadata": {
  "kernelspec": {
   "display_name": "R",
   "language": "R",
   "name": "ir"
  },
  "language_info": {
   "codemirror_mode": "r",
   "file_extension": ".r",
   "mimetype": "text/x-r-source",
   "name": "R",
   "pygments_lexer": "r",
   "version": "3.4.3"
  }
 },
 "nbformat": 4,
 "nbformat_minor": 2
}
