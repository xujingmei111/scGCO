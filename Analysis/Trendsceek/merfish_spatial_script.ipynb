{
 "cells": [
  {
   "cell_type": "code",
   "execution_count": 1,
   "metadata": {
    "scrolled": true
   },
   "outputs": [
    {
     "name": "stderr",
     "output_type": "stream",
     "text": [
      "\n",
      "Attaching package: ‘dplyr’\n",
      "\n",
      "The following objects are masked from ‘package:stats’:\n",
      "\n",
      "    filter, lag\n",
      "\n",
      "The following objects are masked from ‘package:base’:\n",
      "\n",
      "    intersect, setdiff, setequal, union\n",
      "\n",
      "Loading required package: ggplot2\n",
      "Loading required package: cowplot\n",
      "\n",
      "Attaching package: ‘cowplot’\n",
      "\n",
      "The following object is masked from ‘package:ggplot2’:\n",
      "\n",
      "    ggsave\n",
      "\n",
      "Loading required package: Matrix\n",
      "Warning message:\n",
      "“package ‘data.table’ was built under R version 3.4.4”\n",
      "Attaching package: ‘data.table’\n",
      "\n",
      "The following objects are masked from ‘package:dplyr’:\n",
      "\n",
      "    between, first, last\n",
      "\n"
     ]
    }
   ],
   "source": [
    "library('trendsceek')\n",
    "library(\"dplyr\")\n",
    "library('Seurat')\n",
    "library('data.table')"
   ]
  },
  {
   "cell_type": "code",
   "execution_count": 2,
   "metadata": {
    "collapsed": true
   },
   "outputs": [],
   "source": [
    "winsorize <- function(x, n.win = 1){\n",
    "###Winsorize extreme values\n",
    "###Ex: Two most extreme values (from each side):\n",
    "###t(apply(ed, 1, winsorize, 2))\n",
    "\n",
    "    n.vals = length(x)\n",
    "    fraction = n.win / n.vals\n",
    "    if(length(fraction) != 1 || fraction < 0 || fraction > 0.5){\n",
    "        stop(\"bad value for 'fraction'\")\n",
    "    }\n",
    "\n",
    "    win.sorted.ind = order(x)\n",
    "    x[win.sorted.ind[1:n.win]] = x[win.sorted.ind[n.win + 1]]\n",
    "    x[win.sorted.ind[(n.vals - n.win + 1):n.vals]] = x[win.sorted.ind[n.vals - n.win]]\n",
    "\n",
    "    ##fraction-based\n",
    "    if(0){\n",
    "        lim = stats::quantile(x, probs = c(fraction, 1 - fraction))\n",
    "\n",
    "        ##set extreme values\n",
    "        x[ x < lim[1] ] = lim[1]\n",
    "        x[ x > lim[2] ] = lim[2]\n",
    "    }\n",
    "    \n",
    "    return(x)\n",
    "}"
   ]
  },
  {
   "cell_type": "code",
   "execution_count": 2,
   "metadata": {},
   "outputs": [],
   "source": [
    "df='../Data/middle_exp_mat.csv'\n",
    "data=read.csv(df,header = T,row.names=1)\n",
    "counts=t(data)"
   ]
  },
  {
   "cell_type": "code",
   "execution_count": 4,
   "metadata": {
    "collapsed": true
   },
   "outputs": [],
   "source": [
    "win.counts=t(apply(counts,1,winsorize,4))\n",
    "\n",
    "\n",
    "Rep<-genefilter_exprmat(counts,min.expr=5,min.ncells.expr = 3)\n",
    "Rep <-CreateSeuratObject(raw.data = Rep ,min.cells = 3,min.genes = 5 )\n",
    "Rep_filt<- FilterCells(Rep, subset.names = \"nGene\", low.thresholds = 500, high.thresholds = Inf)\n",
    "n.gene=nrow(Rep_filt@raw.data)\n",
    "n.cell=ncol(Rep_filt@raw.data)\n",
    "Rep<-NormalizeData(Rep_filt,normalization.method = \"LogNormalize\",scale.factor = 10000)"
   ]
  },
  {
   "cell_type": "code",
   "execution_count": 5,
   "metadata": {
    "collapsed": true,
    "scrolled": true
   },
   "outputs": [],
   "source": [
    "info<-read.csv(\"../Data/middle_sample_info.csv\",header = T,row.names = 1)\n",
    "corr<-data.frame(x=info$abs_X,y=info$abs_Y)"
   ]
  },
  {
   "cell_type": "code",
   "execution_count": 6,
   "metadata": {},
   "outputs": [
    {
     "data": {
      "text/html": [
       "<table>\n",
       "<thead><tr><th scope=col>x</th><th scope=col>y</th></tr></thead>\n",
       "<tbody>\n",
       "\t<tr><td>-438.9991</td><td>-312.4758</td></tr>\n",
       "\t<tr><td>-437.4286</td><td>-334.3169</td></tr>\n",
       "\t<tr><td>-432.6566</td><td>-438.8867</td></tr>\n",
       "\t<tr><td>-429.7818</td><td>-411.2898</td></tr>\n",
       "\t<tr><td>-412.9161</td><td>-358.0686</td></tr>\n",
       "\t<tr><td>-410.7389</td><td>-310.5912</td></tr>\n",
       "</tbody>\n",
       "</table>\n"
      ],
      "text/latex": [
       "\\begin{tabular}{r|ll}\n",
       " x & y\\\\\n",
       "\\hline\n",
       "\t -438.9991 & -312.4758\\\\\n",
       "\t -437.4286 & -334.3169\\\\\n",
       "\t -432.6566 & -438.8867\\\\\n",
       "\t -429.7818 & -411.2898\\\\\n",
       "\t -412.9161 & -358.0686\\\\\n",
       "\t -410.7389 & -310.5912\\\\\n",
       "\\end{tabular}\n"
      ],
      "text/markdown": [
       "\n",
       "x | y | \n",
       "|---|---|---|---|---|---|\n",
       "| -438.9991 | -312.4758 | \n",
       "| -437.4286 | -334.3169 | \n",
       "| -432.6566 | -438.8867 | \n",
       "| -429.7818 | -411.2898 | \n",
       "| -412.9161 | -358.0686 | \n",
       "| -410.7389 | -310.5912 | \n",
       "\n",
       "\n"
      ],
      "text/plain": [
       "  x         y        \n",
       "1 -438.9991 -312.4758\n",
       "2 -437.4286 -334.3169\n",
       "3 -432.6566 -438.8867\n",
       "4 -429.7818 -411.2898\n",
       "5 -412.9161 -358.0686\n",
       "6 -410.7389 -310.5912"
      ]
     },
     "metadata": {},
     "output_type": "display_data"
    }
   ],
   "source": [
    "head(corr)"
   ]
  },
  {
   "cell_type": "code",
   "execution_count": 7,
   "metadata": {
    "collapsed": true
   },
   "outputs": [],
   "source": [
    "pp=pos2pp(corr)\n",
    "pp=set_marks(pp,win.counts,log.fcn = log10,pseudo.count=1)\n",
    "sub_pp=head(colnames(pp$marks),10)\n",
    "pp2plot=pp_select(pp,sub_pp)"
   ]
  },
  {
   "cell_type": "code",
   "execution_count": null,
   "metadata": {
    "collapsed": true
   },
   "outputs": [],
   "source": []
  },
  {
   "cell_type": "code",
   "execution_count": null,
   "metadata": {
    "collapsed": true
   },
   "outputs": [],
   "source": [
    "#t0<-Sys.time()\n",
    "trendstat_list=trendsceek_test(pp,ncores = 1,nrand = 10000)\n",
    "#t1<-Sys.time()\n",
    "# t=t1-t0"
   ]
  },
  {
   "cell_type": "code",
   "execution_count": null,
   "metadata": {
    "collapsed": true
   },
   "outputs": [],
   "source": [
    "sig_list = extract_sig_genes(trendstat_list, alpha=0.05)\n",
    "lapply(sig_list, nrow)\n",
    "\n",
    "sig_gene_v<-sig_list$markvario$gene\n",
    "\n",
    "sig_gene_c<-sig_list$markcorr$gene\n",
    "\n",
    "sig_genes=union(sig_gene_v,sig_gene_c)\n",
    "\n",
    "df_sig=data.frame(sig_gene=sig_genes)\n",
    "\n",
    "write.csv(df_sig,'results/merfish_sig_list.csv')"
   ]
  }
 ],
 "metadata": {
  "kernelspec": {
   "display_name": "R",
   "language": "R",
   "name": "ir"
  },
  "language_info": {
   "codemirror_mode": "r",
   "file_extension": ".r",
   "mimetype": "text/x-r-source",
   "name": "R",
   "pygments_lexer": "r",
   "version": "3.4.3"
  }
 },
 "nbformat": 4,
 "nbformat_minor": 2
}
