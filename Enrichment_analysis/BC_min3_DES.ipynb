{
 "cells": [
  {
   "cell_type": "code",
   "execution_count": 2,
   "metadata": {
    "collapsed": true
   },
   "outputs": [],
   "source": [
    "import pandas as pd\n",
    "import numpy as np\n",
    "from collections import Counter"
   ]
  },
  {
   "cell_type": "code",
   "execution_count": 3,
   "metadata": {
    "collapsed": true
   },
   "outputs": [],
   "source": [
    "gco_n=pd.DataFrame({'gene':[],'fdr':[]})\n",
    "gco_all=gco_n"
   ]
  },
  {
   "cell_type": "code",
   "execution_count": 4,
   "metadata": {},
   "outputs": [
    {
     "data": {
      "text/html": [
       "<div>\n",
       "<style scoped>\n",
       "    .dataframe tbody tr th:only-of-type {\n",
       "        vertical-align: middle;\n",
       "    }\n",
       "\n",
       "    .dataframe tbody tr th {\n",
       "        vertical-align: top;\n",
       "    }\n",
       "\n",
       "    .dataframe thead th {\n",
       "        text-align: right;\n",
       "    }\n",
       "</style>\n",
       "<table border=\"1\" class=\"dataframe\">\n",
       "  <thead>\n",
       "    <tr style=\"text-align: right;\">\n",
       "      <th></th>\n",
       "      <th>gene</th>\n",
       "      <th>fdr</th>\n",
       "    </tr>\n",
       "  </thead>\n",
       "  <tbody>\n",
       "  </tbody>\n",
       "</table>\n",
       "</div>"
      ],
      "text/plain": [
       "Empty DataFrame\n",
       "Columns: [gene, fdr]\n",
       "Index: []"
      ]
     },
     "execution_count": 4,
     "metadata": {},
     "output_type": "execute_result"
    }
   ],
   "source": [
    "gco_n"
   ]
  },
  {
   "cell_type": "code",
   "execution_count": 5,
   "metadata": {
    "collapsed": true,
    "scrolled": true
   },
   "outputs": [],
   "source": [
    "\n",
    "for i in np.arange(1,5):\n",
    "    \n",
    "    oo='Analysis and Compare/Final-scGCO/BC_'+str(i)+'_DE.csv'\n",
    "    gco0=pd.read_csv(oo,sep=',')\n",
    "    #index=de0.qval.values\n",
    "    #gco0=de0[de0.fdr<0.05]\n",
    "    df={'gene':gco0.iloc[:,1].values,'fdr':gco0.fdr.values}\n",
    "    \n",
    "    gco=pd.DataFrame(data=df)\n",
    "    \n",
    "    gco_all=pd.merge(gco_all,gco,on='gene',how='outer',left_on=None)"
   ]
  },
  {
   "cell_type": "code",
   "execution_count": 6,
   "metadata": {
    "collapsed": true
   },
   "outputs": [],
   "source": [
    "gco_all0=gco_all.copy()\n",
    "gco_all=gco_all[gco_all.gene !='log_total_count']"
   ]
  },
  {
   "cell_type": "code",
   "execution_count": 10,
   "metadata": {
    "scrolled": true
   },
   "outputs": [
    {
     "data": {
      "text/plain": [
       "(273, 6)"
      ]
     },
     "execution_count": 10,
     "metadata": {},
     "output_type": "execute_result"
    }
   ],
   "source": [
    "gco_all.shape"
   ]
  },
  {
   "cell_type": "code",
   "execution_count": 14,
   "metadata": {},
   "outputs": [
    {
     "data": {
      "text/html": [
       "<div>\n",
       "<style scoped>\n",
       "    .dataframe tbody tr th:only-of-type {\n",
       "        vertical-align: middle;\n",
       "    }\n",
       "\n",
       "    .dataframe tbody tr th {\n",
       "        vertical-align: top;\n",
       "    }\n",
       "\n",
       "    .dataframe thead th {\n",
       "        text-align: right;\n",
       "    }\n",
       "</style>\n",
       "<table border=\"1\" class=\"dataframe\">\n",
       "  <thead>\n",
       "    <tr style=\"text-align: right;\">\n",
       "      <th></th>\n",
       "      <th>fdr_x</th>\n",
       "      <th>gene</th>\n",
       "      <th>fdr_y</th>\n",
       "      <th>fdr_x</th>\n",
       "      <th>fdr_y</th>\n",
       "      <th>fdr</th>\n",
       "    </tr>\n",
       "  </thead>\n",
       "  <tbody>\n",
       "    <tr>\n",
       "      <th>0</th>\n",
       "      <td>NaN</td>\n",
       "      <td>GAPDH</td>\n",
       "      <td>0.000016</td>\n",
       "      <td>0.012812</td>\n",
       "      <td>0.001548</td>\n",
       "      <td>0.007222</td>\n",
       "    </tr>\n",
       "    <tr>\n",
       "      <th>1</th>\n",
       "      <td>NaN</td>\n",
       "      <td>COX6C</td>\n",
       "      <td>0.032379</td>\n",
       "      <td>NaN</td>\n",
       "      <td>NaN</td>\n",
       "      <td>NaN</td>\n",
       "    </tr>\n",
       "    <tr>\n",
       "      <th>2</th>\n",
       "      <td>NaN</td>\n",
       "      <td>COL6A3</td>\n",
       "      <td>0.005130</td>\n",
       "      <td>0.000436</td>\n",
       "      <td>0.026448</td>\n",
       "      <td>NaN</td>\n",
       "    </tr>\n",
       "    <tr>\n",
       "      <th>3</th>\n",
       "      <td>NaN</td>\n",
       "      <td>C4B</td>\n",
       "      <td>0.003532</td>\n",
       "      <td>NaN</td>\n",
       "      <td>0.006758</td>\n",
       "      <td>0.003467</td>\n",
       "    </tr>\n",
       "    <tr>\n",
       "      <th>4</th>\n",
       "      <td>NaN</td>\n",
       "      <td>METRN</td>\n",
       "      <td>0.000396</td>\n",
       "      <td>0.011819</td>\n",
       "      <td>0.038683</td>\n",
       "      <td>NaN</td>\n",
       "    </tr>\n",
       "    <tr>\n",
       "      <th>5</th>\n",
       "      <td>NaN</td>\n",
       "      <td>ACTN4</td>\n",
       "      <td>0.000083</td>\n",
       "      <td>NaN</td>\n",
       "      <td>NaN</td>\n",
       "      <td>0.028510</td>\n",
       "    </tr>\n",
       "    <tr>\n",
       "      <th>6</th>\n",
       "      <td>NaN</td>\n",
       "      <td>RPL13</td>\n",
       "      <td>0.000001</td>\n",
       "      <td>0.000488</td>\n",
       "      <td>0.000004</td>\n",
       "      <td>0.000517</td>\n",
       "    </tr>\n",
       "    <tr>\n",
       "      <th>7</th>\n",
       "      <td>NaN</td>\n",
       "      <td>UQCR11</td>\n",
       "      <td>0.031291</td>\n",
       "      <td>NaN</td>\n",
       "      <td>NaN</td>\n",
       "      <td>NaN</td>\n",
       "    </tr>\n",
       "    <tr>\n",
       "      <th>8</th>\n",
       "      <td>NaN</td>\n",
       "      <td>MYL9</td>\n",
       "      <td>0.031203</td>\n",
       "      <td>NaN</td>\n",
       "      <td>NaN</td>\n",
       "      <td>0.000318</td>\n",
       "    </tr>\n",
       "    <tr>\n",
       "      <th>9</th>\n",
       "      <td>NaN</td>\n",
       "      <td>IGFBP7</td>\n",
       "      <td>0.031291</td>\n",
       "      <td>NaN</td>\n",
       "      <td>NaN</td>\n",
       "      <td>NaN</td>\n",
       "    </tr>\n",
       "  </tbody>\n",
       "</table>\n",
       "</div>"
      ],
      "text/plain": [
       "   fdr_x    gene     fdr_y     fdr_x     fdr_y       fdr\n",
       "0    NaN   GAPDH  0.000016  0.012812  0.001548  0.007222\n",
       "1    NaN   COX6C  0.032379       NaN       NaN       NaN\n",
       "2    NaN  COL6A3  0.005130  0.000436  0.026448       NaN\n",
       "3    NaN     C4B  0.003532       NaN  0.006758  0.003467\n",
       "4    NaN   METRN  0.000396  0.011819  0.038683       NaN\n",
       "5    NaN   ACTN4  0.000083       NaN       NaN  0.028510\n",
       "6    NaN   RPL13  0.000001  0.000488  0.000004  0.000517\n",
       "7    NaN  UQCR11  0.031291       NaN       NaN       NaN\n",
       "8    NaN    MYL9  0.031203       NaN       NaN  0.000318\n",
       "9    NaN  IGFBP7  0.031291       NaN       NaN       NaN"
      ]
     },
     "execution_count": 14,
     "metadata": {},
     "output_type": "execute_result"
    }
   ],
   "source": [
    "gco_all.iloc[0:10]"
   ]
  },
  {
   "cell_type": "code",
   "execution_count": null,
   "metadata": {
    "collapsed": true
   },
   "outputs": [],
   "source": []
  },
  {
   "cell_type": "code",
   "execution_count": 8,
   "metadata": {
    "collapsed": true
   },
   "outputs": [],
   "source": [
    "# de_all.drop(de_all.columns[[0]],axis=1,inplace=True)"
   ]
  },
  {
   "cell_type": "code",
   "execution_count": 15,
   "metadata": {
    "scrolled": true
   },
   "outputs": [
    {
     "data": {
      "text/plain": [
       "(273, 5)"
      ]
     },
     "execution_count": 15,
     "metadata": {},
     "output_type": "execute_result"
    }
   ],
   "source": [
    "gco_all=gco_all.dropna(how='all',axis=1)   # remove the column that all of NULL \n",
    "\n",
    "gco_all.shape"
   ]
  },
  {
   "cell_type": "code",
   "execution_count": 16,
   "metadata": {
    "scrolled": true
   },
   "outputs": [
    {
     "data": {
      "text/html": [
       "<div>\n",
       "<style scoped>\n",
       "    .dataframe tbody tr th:only-of-type {\n",
       "        vertical-align: middle;\n",
       "    }\n",
       "\n",
       "    .dataframe tbody tr th {\n",
       "        vertical-align: top;\n",
       "    }\n",
       "\n",
       "    .dataframe thead th {\n",
       "        text-align: right;\n",
       "    }\n",
       "</style>\n",
       "<table border=\"1\" class=\"dataframe\">\n",
       "  <thead>\n",
       "    <tr style=\"text-align: right;\">\n",
       "      <th></th>\n",
       "      <th>gene</th>\n",
       "      <th>fdr_y</th>\n",
       "      <th>fdr_x</th>\n",
       "      <th>fdr_y</th>\n",
       "      <th>fdr</th>\n",
       "    </tr>\n",
       "  </thead>\n",
       "  <tbody>\n",
       "    <tr>\n",
       "      <th>0</th>\n",
       "      <td>GAPDH</td>\n",
       "      <td>0.000016</td>\n",
       "      <td>0.012812</td>\n",
       "      <td>0.001548</td>\n",
       "      <td>0.007222</td>\n",
       "    </tr>\n",
       "    <tr>\n",
       "      <th>1</th>\n",
       "      <td>COX6C</td>\n",
       "      <td>0.032379</td>\n",
       "      <td>NaN</td>\n",
       "      <td>NaN</td>\n",
       "      <td>NaN</td>\n",
       "    </tr>\n",
       "    <tr>\n",
       "      <th>2</th>\n",
       "      <td>COL6A3</td>\n",
       "      <td>0.005130</td>\n",
       "      <td>0.000436</td>\n",
       "      <td>0.026448</td>\n",
       "      <td>NaN</td>\n",
       "    </tr>\n",
       "    <tr>\n",
       "      <th>3</th>\n",
       "      <td>C4B</td>\n",
       "      <td>0.003532</td>\n",
       "      <td>NaN</td>\n",
       "      <td>0.006758</td>\n",
       "      <td>0.003467</td>\n",
       "    </tr>\n",
       "    <tr>\n",
       "      <th>4</th>\n",
       "      <td>METRN</td>\n",
       "      <td>0.000396</td>\n",
       "      <td>0.011819</td>\n",
       "      <td>0.038683</td>\n",
       "      <td>NaN</td>\n",
       "    </tr>\n",
       "    <tr>\n",
       "      <th>5</th>\n",
       "      <td>ACTN4</td>\n",
       "      <td>0.000083</td>\n",
       "      <td>NaN</td>\n",
       "      <td>NaN</td>\n",
       "      <td>0.028510</td>\n",
       "    </tr>\n",
       "    <tr>\n",
       "      <th>6</th>\n",
       "      <td>RPL13</td>\n",
       "      <td>0.000001</td>\n",
       "      <td>0.000488</td>\n",
       "      <td>0.000004</td>\n",
       "      <td>0.000517</td>\n",
       "    </tr>\n",
       "    <tr>\n",
       "      <th>7</th>\n",
       "      <td>UQCR11</td>\n",
       "      <td>0.031291</td>\n",
       "      <td>NaN</td>\n",
       "      <td>NaN</td>\n",
       "      <td>NaN</td>\n",
       "    </tr>\n",
       "    <tr>\n",
       "      <th>8</th>\n",
       "      <td>MYL9</td>\n",
       "      <td>0.031203</td>\n",
       "      <td>NaN</td>\n",
       "      <td>NaN</td>\n",
       "      <td>0.000318</td>\n",
       "    </tr>\n",
       "    <tr>\n",
       "      <th>9</th>\n",
       "      <td>IGFBP7</td>\n",
       "      <td>0.031291</td>\n",
       "      <td>NaN</td>\n",
       "      <td>NaN</td>\n",
       "      <td>NaN</td>\n",
       "    </tr>\n",
       "  </tbody>\n",
       "</table>\n",
       "</div>"
      ],
      "text/plain": [
       "     gene     fdr_y     fdr_x     fdr_y       fdr\n",
       "0   GAPDH  0.000016  0.012812  0.001548  0.007222\n",
       "1   COX6C  0.032379       NaN       NaN       NaN\n",
       "2  COL6A3  0.005130  0.000436  0.026448       NaN\n",
       "3     C4B  0.003532       NaN  0.006758  0.003467\n",
       "4   METRN  0.000396  0.011819  0.038683       NaN\n",
       "5   ACTN4  0.000083       NaN       NaN  0.028510\n",
       "6   RPL13  0.000001  0.000488  0.000004  0.000517\n",
       "7  UQCR11  0.031291       NaN       NaN       NaN\n",
       "8    MYL9  0.031203       NaN       NaN  0.000318\n",
       "9  IGFBP7  0.031291       NaN       NaN       NaN"
      ]
     },
     "execution_count": 16,
     "metadata": {},
     "output_type": "execute_result"
    }
   ],
   "source": [
    "gco_all.iloc[:10,]"
   ]
  },
  {
   "cell_type": "code",
   "execution_count": 17,
   "metadata": {},
   "outputs": [
    {
     "name": "stdout",
     "output_type": "stream",
     "text": [
      "(273, 5)\n"
     ]
    },
    {
     "name": "stderr",
     "output_type": "stream",
     "text": [
      "/home/covo/anaconda3/envs/py3+R/lib/python3.6/site-packages/ipykernel_launcher.py:5: SettingWithCopyWarning: \n",
      "A value is trying to be set on a copy of a slice from a DataFrame.\n",
      "Try using .loc[row_indexer,col_indexer] = value instead\n",
      "\n",
      "See the caveats in the documentation: http://pandas.pydata.org/pandas-docs/stable/indexing.html#indexing-view-versus-copy\n",
      "  \"\"\"\n"
     ]
    }
   ],
   "source": [
    "gco_all1=gco_all.dropna(thresh=4,axis=0) # col.gene also count one colnumes, so at lease 3 non.na\n",
    "print(gco_all.shape)\n",
    "gco_all1.shape\n",
    "\n",
    "gco_all1['min_fdr']=gco_all1.iloc[:,:-1].min(1)\n",
    " # de_all1['max_fdr']=de_all1.iloc[:,:-1].max(1)"
   ]
  },
  {
   "cell_type": "code",
   "execution_count": 15,
   "metadata": {
    "collapsed": true
   },
   "outputs": [],
   "source": [
    "gco_overlap=pd.DataFrame({'gene':gco_all1.gene.values,'fdr':gco_all1.min_fdr.values,\n",
    "                         'counts':gco_all1.counts.values})\n",
    "gco_overlap.to_csv('scGCO_BC_min3.csv')"
   ]
  },
  {
   "cell_type": "code",
   "execution_count": null,
   "metadata": {
    "collapsed": true
   },
   "outputs": [],
   "source": []
  },
  {
   "cell_type": "code",
   "execution_count": null,
   "metadata": {
    "collapsed": true
   },
   "outputs": [],
   "source": []
  },
  {
   "cell_type": "code",
   "execution_count": null,
   "metadata": {
    "collapsed": true
   },
   "outputs": [],
   "source": []
  },
  {
   "cell_type": "code",
   "execution_count": null,
   "metadata": {
    "collapsed": true
   },
   "outputs": [],
   "source": []
  },
  {
   "cell_type": "code",
   "execution_count": 5,
   "metadata": {
    "collapsed": true,
    "scrolled": true
   },
   "outputs": [],
   "source": []
  }
 ],
 "metadata": {
  "kernelspec": {
   "display_name": "Python 3",
   "language": "python",
   "name": "python3"
  },
  "language_info": {
   "codemirror_mode": {
    "name": "ipython",
    "version": 3
   },
   "file_extension": ".py",
   "mimetype": "text/x-python",
   "name": "python",
   "nbconvert_exporter": "python",
   "pygments_lexer": "ipython3",
   "version": "3.6.5"
  }
 },
 "nbformat": 4,
 "nbformat_minor": 2
}
