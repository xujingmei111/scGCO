{
 "cells": [
  {
   "cell_type": "code",
   "execution_count": 1,
   "metadata": {
    "collapsed": true
   },
   "outputs": [],
   "source": [
    "import os \n",
    "os.chdir('/home/covo/single_cell_project/spatial/wangs_data/')"
   ]
  },
  {
   "cell_type": "code",
   "execution_count": 2,
   "metadata": {},
   "outputs": [],
   "source": [
    "import numpy as np\n",
    "import pandas as pd "
   ]
  },
  {
   "cell_type": "code",
   "execution_count": 3,
   "metadata": {
    "collapsed": true
   },
   "outputs": [],
   "source": [
    "i=1\n",
    "oo='Final-scGCO/MOB_'+str(i)+'_DE_com9.csv'\n",
    "    \n",
    "gco0=pd.read_csv(oo,sep=',',index_col=1)"
   ]
  },
  {
   "cell_type": "code",
   "execution_count": 4,
   "metadata": {},
   "outputs": [
    {
     "data": {
      "text/html": [
       "<div>\n",
       "<style scoped>\n",
       "    .dataframe tbody tr th:only-of-type {\n",
       "        vertical-align: middle;\n",
       "    }\n",
       "\n",
       "    .dataframe tbody tr th {\n",
       "        vertical-align: top;\n",
       "    }\n",
       "\n",
       "    .dataframe thead th {\n",
       "        text-align: right;\n",
       "    }\n",
       "</style>\n",
       "<table border=\"1\" class=\"dataframe\">\n",
       "  <thead>\n",
       "    <tr style=\"text-align: right;\">\n",
       "      <th></th>\n",
       "      <th>Unnamed: 0</th>\n",
       "      <th>p_value</th>\n",
       "      <th>fdr</th>\n",
       "      <th>smooth_factor</th>\n",
       "      <th>label_cell_1</th>\n",
       "      <th>label_cell_2</th>\n",
       "      <th>label_cell_3</th>\n",
       "      <th>label_cell_4</th>\n",
       "      <th>label_cell_5</th>\n",
       "      <th>label_cell_6</th>\n",
       "      <th>...</th>\n",
       "      <th>label_cell_258</th>\n",
       "      <th>label_cell_259</th>\n",
       "      <th>label_cell_260</th>\n",
       "      <th>label_cell_261</th>\n",
       "      <th>label_cell_262</th>\n",
       "      <th>label_cell_263</th>\n",
       "      <th>label_cell_264</th>\n",
       "      <th>label_cell_265</th>\n",
       "      <th>label_cell_266</th>\n",
       "      <th>label_cell_267</th>\n",
       "    </tr>\n",
       "  </thead>\n",
       "  <tbody>\n",
       "    <tr>\n",
       "      <th>Lix1</th>\n",
       "      <td>2</td>\n",
       "      <td>2.820624e-05</td>\n",
       "      <td>0.001195</td>\n",
       "      <td>25.0</td>\n",
       "      <td>1.0</td>\n",
       "      <td>0.0</td>\n",
       "      <td>0.0</td>\n",
       "      <td>0.0</td>\n",
       "      <td>0.0</td>\n",
       "      <td>0.0</td>\n",
       "      <td>...</td>\n",
       "      <td>1.0</td>\n",
       "      <td>0.0</td>\n",
       "      <td>0.0</td>\n",
       "      <td>1.0</td>\n",
       "      <td>0.0</td>\n",
       "      <td>1.0</td>\n",
       "      <td>0.0</td>\n",
       "      <td>0.0</td>\n",
       "      <td>0.0</td>\n",
       "      <td>0.0</td>\n",
       "    </tr>\n",
       "    <tr>\n",
       "      <th>Nap1l1</th>\n",
       "      <td>4</td>\n",
       "      <td>6.866895e-05</td>\n",
       "      <td>0.002045</td>\n",
       "      <td>20.0</td>\n",
       "      <td>0.0</td>\n",
       "      <td>0.0</td>\n",
       "      <td>0.0</td>\n",
       "      <td>0.0</td>\n",
       "      <td>1.0</td>\n",
       "      <td>1.0</td>\n",
       "      <td>...</td>\n",
       "      <td>1.0</td>\n",
       "      <td>1.0</td>\n",
       "      <td>0.0</td>\n",
       "      <td>0.0</td>\n",
       "      <td>0.0</td>\n",
       "      <td>1.0</td>\n",
       "      <td>1.0</td>\n",
       "      <td>0.0</td>\n",
       "      <td>0.0</td>\n",
       "      <td>0.0</td>\n",
       "    </tr>\n",
       "    <tr>\n",
       "      <th>Slc1a3</th>\n",
       "      <td>9</td>\n",
       "      <td>9.084340e-05</td>\n",
       "      <td>0.002395</td>\n",
       "      <td>10.0</td>\n",
       "      <td>0.0</td>\n",
       "      <td>0.0</td>\n",
       "      <td>1.0</td>\n",
       "      <td>1.0</td>\n",
       "      <td>0.0</td>\n",
       "      <td>0.0</td>\n",
       "      <td>...</td>\n",
       "      <td>0.0</td>\n",
       "      <td>1.0</td>\n",
       "      <td>1.0</td>\n",
       "      <td>1.0</td>\n",
       "      <td>0.0</td>\n",
       "      <td>1.0</td>\n",
       "      <td>1.0</td>\n",
       "      <td>0.0</td>\n",
       "      <td>0.0</td>\n",
       "      <td>0.0</td>\n",
       "    </tr>\n",
       "    <tr>\n",
       "      <th>2010300C02Rik</th>\n",
       "      <td>15</td>\n",
       "      <td>5.888650e-07</td>\n",
       "      <td>0.000173</td>\n",
       "      <td>10.0</td>\n",
       "      <td>1.0</td>\n",
       "      <td>1.0</td>\n",
       "      <td>0.0</td>\n",
       "      <td>0.0</td>\n",
       "      <td>0.0</td>\n",
       "      <td>0.0</td>\n",
       "      <td>...</td>\n",
       "      <td>0.0</td>\n",
       "      <td>0.0</td>\n",
       "      <td>0.0</td>\n",
       "      <td>0.0</td>\n",
       "      <td>0.0</td>\n",
       "      <td>0.0</td>\n",
       "      <td>0.0</td>\n",
       "      <td>0.0</td>\n",
       "      <td>0.0</td>\n",
       "      <td>0.0</td>\n",
       "    </tr>\n",
       "    <tr>\n",
       "      <th>Cbx5</th>\n",
       "      <td>17</td>\n",
       "      <td>4.033434e-04</td>\n",
       "      <td>0.005846</td>\n",
       "      <td>25.0</td>\n",
       "      <td>1.0</td>\n",
       "      <td>1.0</td>\n",
       "      <td>0.0</td>\n",
       "      <td>1.0</td>\n",
       "      <td>1.0</td>\n",
       "      <td>1.0</td>\n",
       "      <td>...</td>\n",
       "      <td>0.0</td>\n",
       "      <td>0.0</td>\n",
       "      <td>0.0</td>\n",
       "      <td>0.0</td>\n",
       "      <td>1.0</td>\n",
       "      <td>0.0</td>\n",
       "      <td>0.0</td>\n",
       "      <td>1.0</td>\n",
       "      <td>1.0</td>\n",
       "      <td>0.0</td>\n",
       "    </tr>\n",
       "    <tr>\n",
       "      <th>Sh3glb2</th>\n",
       "      <td>18</td>\n",
       "      <td>3.415330e-05</td>\n",
       "      <td>0.001359</td>\n",
       "      <td>15.0</td>\n",
       "      <td>1.0</td>\n",
       "      <td>0.0</td>\n",
       "      <td>0.0</td>\n",
       "      <td>0.0</td>\n",
       "      <td>0.0</td>\n",
       "      <td>0.0</td>\n",
       "      <td>...</td>\n",
       "      <td>1.0</td>\n",
       "      <td>1.0</td>\n",
       "      <td>1.0</td>\n",
       "      <td>1.0</td>\n",
       "      <td>0.0</td>\n",
       "      <td>0.0</td>\n",
       "      <td>0.0</td>\n",
       "      <td>0.0</td>\n",
       "      <td>0.0</td>\n",
       "      <td>0.0</td>\n",
       "    </tr>\n",
       "  </tbody>\n",
       "</table>\n",
       "<p>6 rows × 271 columns</p>\n",
       "</div>"
      ],
      "text/plain": [
       "               Unnamed: 0       p_value       fdr  smooth_factor  \\\n",
       "Lix1                    2  2.820624e-05  0.001195           25.0   \n",
       "Nap1l1                  4  6.866895e-05  0.002045           20.0   \n",
       "Slc1a3                  9  9.084340e-05  0.002395           10.0   \n",
       "2010300C02Rik          15  5.888650e-07  0.000173           10.0   \n",
       "Cbx5                   17  4.033434e-04  0.005846           25.0   \n",
       "Sh3glb2                18  3.415330e-05  0.001359           15.0   \n",
       "\n",
       "               label_cell_1  label_cell_2  label_cell_3  label_cell_4  \\\n",
       "Lix1                    1.0           0.0           0.0           0.0   \n",
       "Nap1l1                  0.0           0.0           0.0           0.0   \n",
       "Slc1a3                  0.0           0.0           1.0           1.0   \n",
       "2010300C02Rik           1.0           1.0           0.0           0.0   \n",
       "Cbx5                    1.0           1.0           0.0           1.0   \n",
       "Sh3glb2                 1.0           0.0           0.0           0.0   \n",
       "\n",
       "               label_cell_5  label_cell_6       ...        label_cell_258  \\\n",
       "Lix1                    0.0           0.0       ...                   1.0   \n",
       "Nap1l1                  1.0           1.0       ...                   1.0   \n",
       "Slc1a3                  0.0           0.0       ...                   0.0   \n",
       "2010300C02Rik           0.0           0.0       ...                   0.0   \n",
       "Cbx5                    1.0           1.0       ...                   0.0   \n",
       "Sh3glb2                 0.0           0.0       ...                   1.0   \n",
       "\n",
       "               label_cell_259  label_cell_260  label_cell_261  label_cell_262  \\\n",
       "Lix1                      0.0             0.0             1.0             0.0   \n",
       "Nap1l1                    1.0             0.0             0.0             0.0   \n",
       "Slc1a3                    1.0             1.0             1.0             0.0   \n",
       "2010300C02Rik             0.0             0.0             0.0             0.0   \n",
       "Cbx5                      0.0             0.0             0.0             1.0   \n",
       "Sh3glb2                   1.0             1.0             1.0             0.0   \n",
       "\n",
       "               label_cell_263  label_cell_264  label_cell_265  label_cell_266  \\\n",
       "Lix1                      1.0             0.0             0.0             0.0   \n",
       "Nap1l1                    1.0             1.0             0.0             0.0   \n",
       "Slc1a3                    1.0             1.0             0.0             0.0   \n",
       "2010300C02Rik             0.0             0.0             0.0             0.0   \n",
       "Cbx5                      0.0             0.0             1.0             1.0   \n",
       "Sh3glb2                   0.0             0.0             0.0             0.0   \n",
       "\n",
       "               label_cell_267  \n",
       "Lix1                      0.0  \n",
       "Nap1l1                    0.0  \n",
       "Slc1a3                    0.0  \n",
       "2010300C02Rik             0.0  \n",
       "Cbx5                      0.0  \n",
       "Sh3glb2                   0.0  \n",
       "\n",
       "[6 rows x 271 columns]"
      ]
     },
     "execution_count": 4,
     "metadata": {},
     "output_type": "execute_result"
    }
   ],
   "source": [
    "gco0.iloc[0:6]"
   ]
  },
  {
   "cell_type": "code",
   "execution_count": 5,
   "metadata": {
    "collapsed": true
   },
   "outputs": [],
   "source": [
    "gco_n=pd.DataFrame({'gene':[],'fdr':[]})\n",
    "gco_all=gco_n"
   ]
  },
  {
   "cell_type": "code",
   "execution_count": 6,
   "metadata": {},
   "outputs": [],
   "source": [
    "## --- scGCO MOB---\n",
    "for i in np.arange(1,13):\n",
    "    oo='Final-scGCO/MOB_'+str(i)+'_DE_com9.csv'\n",
    "    \n",
    "    gco0=pd.read_csv(oo,sep=',',index_col=1)\n",
    "    #index=de0.qval.values\n",
    "   # de0=de0[de0.fdr<0.05]\n",
    "    df={'gene':gco0.index.values,'fdr':gco0.fdr.values}\n",
    "    \n",
    "    gco=pd.DataFrame(data=df)\n",
    "    \n",
    "    gco_all=pd.merge(gco_all,gco,on='gene',how='outer',left_on=None)"
   ]
  },
  {
   "cell_type": "code",
   "execution_count": 7,
   "metadata": {},
   "outputs": [
    {
     "data": {
      "text/plain": [
       "(3543, 14)"
      ]
     },
     "execution_count": 7,
     "metadata": {},
     "output_type": "execute_result"
    }
   ],
   "source": [
    "gco_all.shape"
   ]
  },
  {
   "cell_type": "code",
   "execution_count": 8,
   "metadata": {},
   "outputs": [
    {
     "data": {
      "text/plain": [
       "(3543, 14)"
      ]
     },
     "execution_count": 8,
     "metadata": {},
     "output_type": "execute_result"
    }
   ],
   "source": [
    "gco_all0=gco_all.copy()\n",
    "gco_all=gco_all[gco_all.gene !='log_total_count']\n",
    "gco_all.shape"
   ]
  },
  {
   "cell_type": "code",
   "execution_count": 9,
   "metadata": {},
   "outputs": [
    {
     "data": {
      "text/plain": [
       "(3543, 13)"
      ]
     },
     "execution_count": 9,
     "metadata": {},
     "output_type": "execute_result"
    }
   ],
   "source": [
    "gco_all=gco_all.dropna(how='all',axis=1)   # remove the column that all of NULL \n",
    "\n",
    "gco_all.shape"
   ]
  },
  {
   "cell_type": "code",
   "execution_count": 10,
   "metadata": {},
   "outputs": [
    {
     "name": "stdout",
     "output_type": "stream",
     "text": [
      "(3543, 13)\n"
     ]
    },
    {
     "name": "stderr",
     "output_type": "stream",
     "text": [
      "/home/covo/anaconda3/envs/py3+R/lib/python3.6/site-packages/ipykernel_launcher.py:5: SettingWithCopyWarning: \n",
      "A value is trying to be set on a copy of a slice from a DataFrame.\n",
      "Try using .loc[row_indexer,col_indexer] = value instead\n",
      "\n",
      "See the caveats in the documentation: http://pandas.pydata.org/pandas-docs/stable/indexing.html#indexing-view-versus-copy\n",
      "  \"\"\"\n"
     ]
    }
   ],
   "source": [
    "gco_all1=gco_all.dropna(thresh=7,axis=0) # col.gene also count one colnumes, so at lease 7 non.na\n",
    "print(gco_all.shape)\n",
    "gco_all1.shape\n",
    "\n",
    "gco_all1['min_fdr']=gco_all1.iloc[:,:-1].min(1)\n",
    " # de_all1['max_fdr']=de_all1.iloc[:,:-1].max(1)"
   ]
  },
  {
   "cell_type": "code",
   "execution_count": null,
   "metadata": {
    "collapsed": true
   },
   "outputs": [],
   "source": []
  }
 ],
 "metadata": {
  "kernelspec": {
   "display_name": "Python 3",
   "language": "python",
   "name": "python3"
  },
  "language_info": {
   "codemirror_mode": {
    "name": "ipython",
    "version": 3
   },
   "file_extension": ".py",
   "mimetype": "text/x-python",
   "name": "python",
   "nbconvert_exporter": "python",
   "pygments_lexer": "ipython3",
   "version": "3.6.5"
  }
 },
 "nbformat": 4,
 "nbformat_minor": 2
}
