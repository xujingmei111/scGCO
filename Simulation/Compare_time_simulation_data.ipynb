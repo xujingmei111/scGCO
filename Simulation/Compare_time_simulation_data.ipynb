{
 "cells": [
  {
   "cell_type": "code",
   "execution_count": 1,
   "metadata": {
    "collapsed": true
   },
   "outputs": [],
   "source": [
    "import pandas as pd\n",
    "import numpy as np\n",
    "import matplotlib.pyplot as plt\n",
    "%matplotlib inline"
   ]
  },
  {
   "cell_type": "code",
   "execution_count": 2,
   "metadata": {
    "collapsed": true
   },
   "outputs": [],
   "source": [
    "plt.rcParams['axes.spines.right'] = False\n",
    "plt.rcParams['axes.spines.top'] = False\n",
    "#plt.rcParams['figure.figsize'] = (10, 10)\n",
    "#plt.style.use(\"seaborn-white\")"
   ]
  },
  {
   "cell_type": "code",
   "execution_count": null,
   "metadata": {
    "collapsed": true
   },
   "outputs": [],
   "source": []
  },
  {
   "cell_type": "code",
   "execution_count": 3,
   "metadata": {
    "collapsed": true
   },
   "outputs": [],
   "source": [
    "tre=np.array([425.340709,782.716105,1796.153258,7046.638657,14893.46375,\n",
    "              np.nan,np.nan,np.nan,np.nan,np.nan,np.nan,np.nan])\n",
    "de=np.array([4.312751,4.33418,4.940749,7.563069,12.091565,198.131749,\n",
    "            1385.162441,4518.892493,66056.648,np.nan,np.nan,np.nan])\n",
    "gco=np.array([1.305732,2.447225,3.911645,6.845779,9.66044,37.894514,\n",
    "             74.264697,106.662267, 360.641484,696.380023,4584.11305,\n",
    "            10669.9514])"
   ]
  },
  {
   "cell_type": "code",
   "execution_count": 4,
   "metadata": {
    "collapsed": true
   },
   "outputs": [],
   "source": [
    "time0=pd.DataFrame({'trendsceek':tre/5,'SpatialDE':de/60,'scGCO':gco/60},\n",
    "                 index=[100,250,500,1000,1500,5000,10000,15000,50000,100000,500000,1000000] )"
   ]
  },
  {
   "cell_type": "code",
   "execution_count": 5,
   "metadata": {},
   "outputs": [
    {
     "data": {
      "text/html": [
       "<div>\n",
       "<style scoped>\n",
       "    .dataframe tbody tr th:only-of-type {\n",
       "        vertical-align: middle;\n",
       "    }\n",
       "\n",
       "    .dataframe tbody tr th {\n",
       "        vertical-align: top;\n",
       "    }\n",
       "\n",
       "    .dataframe thead th {\n",
       "        text-align: right;\n",
       "    }\n",
       "</style>\n",
       "<table border=\"1\" class=\"dataframe\">\n",
       "  <thead>\n",
       "    <tr style=\"text-align: right;\">\n",
       "      <th></th>\n",
       "      <th>trendsceek</th>\n",
       "      <th>SpatialDE</th>\n",
       "      <th>scGCO</th>\n",
       "    </tr>\n",
       "  </thead>\n",
       "  <tbody>\n",
       "    <tr>\n",
       "      <th>100</th>\n",
       "      <td>85.068142</td>\n",
       "      <td>0.071879</td>\n",
       "      <td>0.021762</td>\n",
       "    </tr>\n",
       "    <tr>\n",
       "      <th>250</th>\n",
       "      <td>156.543221</td>\n",
       "      <td>0.072236</td>\n",
       "      <td>0.040787</td>\n",
       "    </tr>\n",
       "    <tr>\n",
       "      <th>500</th>\n",
       "      <td>359.230652</td>\n",
       "      <td>0.082346</td>\n",
       "      <td>0.065194</td>\n",
       "    </tr>\n",
       "    <tr>\n",
       "      <th>1000</th>\n",
       "      <td>1409.327731</td>\n",
       "      <td>0.126051</td>\n",
       "      <td>0.114096</td>\n",
       "    </tr>\n",
       "    <tr>\n",
       "      <th>1500</th>\n",
       "      <td>2978.692750</td>\n",
       "      <td>0.201526</td>\n",
       "      <td>0.161007</td>\n",
       "    </tr>\n",
       "    <tr>\n",
       "      <th>5000</th>\n",
       "      <td>NaN</td>\n",
       "      <td>3.302196</td>\n",
       "      <td>0.631575</td>\n",
       "    </tr>\n",
       "    <tr>\n",
       "      <th>10000</th>\n",
       "      <td>NaN</td>\n",
       "      <td>23.086041</td>\n",
       "      <td>1.237745</td>\n",
       "    </tr>\n",
       "    <tr>\n",
       "      <th>15000</th>\n",
       "      <td>NaN</td>\n",
       "      <td>75.314875</td>\n",
       "      <td>1.777704</td>\n",
       "    </tr>\n",
       "    <tr>\n",
       "      <th>50000</th>\n",
       "      <td>NaN</td>\n",
       "      <td>1100.944133</td>\n",
       "      <td>6.010691</td>\n",
       "    </tr>\n",
       "    <tr>\n",
       "      <th>100000</th>\n",
       "      <td>NaN</td>\n",
       "      <td>NaN</td>\n",
       "      <td>11.606334</td>\n",
       "    </tr>\n",
       "    <tr>\n",
       "      <th>500000</th>\n",
       "      <td>NaN</td>\n",
       "      <td>NaN</td>\n",
       "      <td>76.401884</td>\n",
       "    </tr>\n",
       "    <tr>\n",
       "      <th>1000000</th>\n",
       "      <td>NaN</td>\n",
       "      <td>NaN</td>\n",
       "      <td>177.832523</td>\n",
       "    </tr>\n",
       "  </tbody>\n",
       "</table>\n",
       "</div>"
      ],
      "text/plain": [
       "          trendsceek    SpatialDE       scGCO\n",
       "100        85.068142     0.071879    0.021762\n",
       "250       156.543221     0.072236    0.040787\n",
       "500       359.230652     0.082346    0.065194\n",
       "1000     1409.327731     0.126051    0.114096\n",
       "1500     2978.692750     0.201526    0.161007\n",
       "5000             NaN     3.302196    0.631575\n",
       "10000            NaN    23.086041    1.237745\n",
       "15000            NaN    75.314875    1.777704\n",
       "50000            NaN  1100.944133    6.010691\n",
       "100000           NaN          NaN   11.606334\n",
       "500000           NaN          NaN   76.401884\n",
       "1000000          NaN          NaN  177.832523"
      ]
     },
     "execution_count": 5,
     "metadata": {},
     "output_type": "execute_result"
    }
   ],
   "source": [
    "time0"
   ]
  },
  {
   "cell_type": "code",
   "execution_count": 6,
   "metadata": {},
   "outputs": [
    {
     "data": {
      "image/png": "[encoded data removed]",
      "text/plain": [
       "<Figure size 1080x576 with 1 Axes>"
      ]
     },
     "metadata": {},
     "output_type": "display_data"
    }
   ],
   "source": [
    "## 100 genes\n",
    "time=time0\n",
    "\n",
    "plt.figure(figsize=(15,8))\n",
    "plt.yscale(\"log\")\n",
    "plt.xscale(\"log\")\n",
    "\n",
    "colors={'trendsceek':'tab',\"scGCO\":'tab'}\n",
    "for method in colors:\n",
    "    plt.plot(time.index.values,time.loc[:,method],lw=6,color=\"w\",label='',alpha=0.5)\n",
    "plt.plot(time.index.values,time.trendsceek.values,'g-',marker='.',label='trendsceek',lw=2,ms=12,alpha=0.6)\n",
    "\n",
    "\n",
    "plt.plot(time.iloc[0:8,1].index.values,time.iloc[0:8,1].values,'b-',marker='.',label='SpatialDE',\n",
    "        lw=2,ms=12,alpha=0.6)\n",
    "plt.plot(time.iloc[7:10,1].index.values,time.iloc[7:10,1].values,'b:',marker='.',\n",
    "        lw=2,ms=12,alpha=0.6)\n",
    "plt.plot(time.index.values,time.scGCO.values,'r-',marker='.',label='scGCO',lw=2,ms=12,alpha=0.6)\n",
    "\n",
    "plt.title(\"Running time(100 genes)\",size=18)\n",
    "\n",
    "plt.legend(numpoints=2, bbox_to_anchor=(1, 1), frameon=False)\n",
    "\n",
    "plt.xlabel(\"Number of samples(log)\",size=15)\n",
    "plt.ylabel(\"Running time(mins)(log)\",size=15)\n",
    "\n",
    "\n",
    "plt.axhline(1, lw=1, c='k', zorder=0, ls='--')\n",
    "plt.annotate('1 mins', (54, 1*1.1), va='bottom')\n",
    "\n",
    "plt.axhline(10, lw=1, c='k', zorder=0, ls='--')\n",
    "plt.annotate('10 mins', (54, 10*1.1), va='bottom')\n",
    "\n",
    "plt.axhline(60, lw=1, c='k', zorder=0, ls='--');\n",
    "plt.annotate('1 hour', (54, 60 * 1.1), va='bottom')\n",
    "\n",
    "plt.axhline(60 * 24, lw=1, c='k', zorder=0, ls='--');\n",
    "plt.annotate('1 day', (54, 24 * 60 * 1.1), va='bottom')\n",
    "\n",
    "plt.axhline(60 * 24 * 2, lw=1, c='k', zorder=0, ls='--');\n",
    "plt.annotate('2 days', (54, 2 * 24 * 60 * 1.1), va='bottom')\n",
    "\n",
    "#plt.axhline(60 * 24 * 14, lw=1, c='k', zorder=0, ls='--');\n",
    "#plt.annotate('2 week', (54, 14 * 24 * 60 * 1.1), va='bottom')\n",
    "\n",
    "\n",
    "plt.xlim([50,1500000])\n",
    "plt.ylim([10E-3,10E3])\n",
    "xtick=[100,250,500,1000,1500,5000,10000,15000,50000,100000,500000,1000000]\n",
    "plt.xticks(xtick,xtick)\n",
    "\n",
    "plt.show()"
   ]
  },
  {
   "cell_type": "code",
   "execution_count": null,
   "metadata": {
    "collapsed": true
   },
   "outputs": [],
   "source": []
  },
  {
   "cell_type": "code",
   "execution_count": null,
   "metadata": {
    "collapsed": true
   },
   "outputs": [],
   "source": []
  },
  {
   "cell_type": "code",
   "execution_count": null,
   "metadata": {
    "collapsed": true
   },
   "outputs": [],
   "source": []
  }
 ],
 "metadata": {
  "kernelspec": {
   "display_name": "Python 3",
   "language": "python",
   "name": "python3"
  },
  "language_info": {
   "codemirror_mode": {
    "name": "ipython",
    "version": 3
   },
   "file_extension": ".py",
   "mimetype": "text/x-python",
   "name": "python",
   "nbconvert_exporter": "python",
   "pygments_lexer": "ipython3",
   "version": "3.6.5"
  }
 },
 "nbformat": 4,
 "nbformat_minor": 2
}
