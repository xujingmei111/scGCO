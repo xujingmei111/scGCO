{
 "cells": [
  {
   "cell_type": "code",
   "execution_count": 11,
   "metadata": {
    "collapsed": true
   },
   "outputs": [],
   "source": [
    "setwd('~/GitHub/Wang/scGCO/')"
   ]
  },
  {
   "cell_type": "code",
   "execution_count": 1,
   "metadata": {
    "collapsed": true
   },
   "outputs": [],
   "source": [
    "library('trendsceek')"
   ]
  },
  {
   "cell_type": "code",
   "execution_count": 3,
   "metadata": {},
   "outputs": [
    {
     "name": "stderr",
     "output_type": "stream",
     "text": [
      "Attempting to generate 1001393 random points\n",
      "Warning message:\n",
      "“Attempting to generate 1001393 random points”"
     ]
    }
   ],
   "source": [
    "set.seed(12346)\n",
    "pp=sim_pois(1000000)  ## number of cells\n",
    "\n",
    "low_expr=sample(1:10,100,replace=T)  # 随机抽样，设置抽样次数---number of genes\n",
    "high_expr=sample(20:50,100,replace=T)\n",
    "\n",
    "pp=add_markdist_step(pp,low_expr,high_expr)"
   ]
  },
  {
   "cell_type": "code",
   "execution_count": 4,
   "metadata": {},
   "outputs": [
    {
     "data": {
      "text/html": [
       "<ol class=list-inline>\n",
       "\t<li>1000000</li>\n",
       "\t<li>100</li>\n",
       "</ol>\n"
      ],
      "text/latex": [
       "\\begin{enumerate*}\n",
       "\\item 1000000\n",
       "\\item 100\n",
       "\\end{enumerate*}\n"
      ],
      "text/markdown": [
       "1. 1000000\n",
       "2. 100\n",
       "\n",
       "\n"
      ],
      "text/plain": [
       "[1] 1000000     100"
      ]
     },
     "metadata": {},
     "output_type": "display_data"
    }
   ],
   "source": [
    "data=pp$marks[1:1000000,]\n",
    "dim(data)\n"
   ]
  },
  {
   "cell_type": "code",
   "execution_count": 5,
   "metadata": {
    "collapsed": true
   },
   "outputs": [],
   "source": [
    "## combine corrd (x 'x' y)\n",
    "X=pp$x\n",
    "Y=pp$y\n",
    "info=paste0(X,'x',Y)\n",
    "info=info[1:1000000]\n"
   ]
  },
  {
   "cell_type": "code",
   "execution_count": 6,
   "metadata": {},
   "outputs": [
    {
     "data": {
      "text/html": [
       "1000000"
      ],
      "text/latex": [
       "1000000"
      ],
      "text/markdown": [
       "1000000"
      ],
      "text/plain": [
       "[1] 1000000"
      ]
     },
     "metadata": {},
     "output_type": "display_data"
    }
   ],
   "source": [
    "length(info)"
   ]
  },
  {
   "cell_type": "code",
   "execution_count": 7,
   "metadata": {
    "collapsed": true
   },
   "outputs": [],
   "source": [
    "row.names(data)=info"
   ]
  },
  {
   "cell_type": "code",
   "execution_count": 8,
   "metadata": {},
   "outputs": [
    {
     "data": {
      "text/html": [
       "<table>\n",
       "<thead><tr><th></th><th scope=col>step_1</th><th scope=col>step_2</th><th scope=col>step_3</th><th scope=col>step_4</th><th scope=col>step_5</th><th scope=col>step_6</th><th scope=col>step_7</th><th scope=col>step_8</th><th scope=col>step_9</th><th scope=col>step_10</th><th scope=col>⋯</th><th scope=col>step_91</th><th scope=col>step_92</th><th scope=col>step_93</th><th scope=col>step_94</th><th scope=col>step_95</th><th scope=col>step_96</th><th scope=col>step_97</th><th scope=col>step_98</th><th scope=col>step_99</th><th scope=col>step_100</th></tr></thead>\n",
       "<tbody>\n",
       "\t<tr><th scope=row>0.410693558864295x0.674942613113672</th><td> 1</td><td> 7</td><td> 2</td><td> 1</td><td>10</td><td> 2</td><td> 8</td><td> 9</td><td> 1</td><td> 5</td><td>⋯ </td><td> 6</td><td>10</td><td> 2</td><td> 6</td><td> 6</td><td> 2</td><td> 2</td><td> 9</td><td> 6</td><td> 4</td></tr>\n",
       "\t<tr><th scope=row>0.104294288204983x0.498498122673482</th><td> 1</td><td> 7</td><td> 2</td><td> 1</td><td>10</td><td> 2</td><td> 8</td><td> 9</td><td> 1</td><td> 5</td><td>⋯ </td><td> 6</td><td>10</td><td> 2</td><td> 6</td><td> 6</td><td> 2</td><td> 2</td><td> 9</td><td> 6</td><td> 4</td></tr>\n",
       "\t<tr><th scope=row>0.814270022092387x0.497975082369521</th><td>45</td><td>35</td><td>44</td><td>28</td><td>23</td><td>38</td><td>21</td><td>31</td><td>24</td><td>49</td><td>⋯ </td><td>49</td><td>48</td><td>48</td><td>49</td><td>46</td><td>28</td><td>29</td><td>22</td><td>35</td><td>22</td></tr>\n",
       "\t<tr><th scope=row>0.854365968843922x0.0149538014084101</th><td>45</td><td>35</td><td>44</td><td>28</td><td>23</td><td>38</td><td>21</td><td>31</td><td>24</td><td>49</td><td>⋯ </td><td>49</td><td>48</td><td>48</td><td>49</td><td>46</td><td>28</td><td>29</td><td>22</td><td>35</td><td>22</td></tr>\n",
       "\t<tr><th scope=row>0.0314666354097426x0.0387805758509785</th><td> 1</td><td> 7</td><td> 2</td><td> 1</td><td>10</td><td> 2</td><td> 8</td><td> 9</td><td> 1</td><td> 5</td><td>⋯ </td><td> 6</td><td>10</td><td> 2</td><td> 6</td><td> 6</td><td> 2</td><td> 2</td><td> 9</td><td> 6</td><td> 4</td></tr>\n",
       "\t<tr><th scope=row>0.580545703647658x0.0884250258095562</th><td>45</td><td>35</td><td>44</td><td>28</td><td>23</td><td>38</td><td>21</td><td>31</td><td>24</td><td>49</td><td>⋯ </td><td>49</td><td>48</td><td>48</td><td>49</td><td>46</td><td>28</td><td>29</td><td>22</td><td>35</td><td>22</td></tr>\n",
       "</tbody>\n",
       "</table>\n"
      ],
      "text/latex": [
       "\\begin{tabular}{r|llllllllllllllllllllllllllllllllllllllllllllllllllllllllllllllllllllllllllllllllllllllllllllllllllll}\n",
       "  & step\\_1 & step\\_2 & step\\_3 & step\\_4 & step\\_5 & step\\_6 & step\\_7 & step\\_8 & step\\_9 & step\\_10 & ⋯ & step\\_91 & step\\_92 & step\\_93 & step\\_94 & step\\_95 & step\\_96 & step\\_97 & step\\_98 & step\\_99 & step\\_100\\\\\n",
       "\\hline\n",
       "\t0.410693558864295x0.674942613113672 &  1 &  7 &  2 &  1 & 10 &  2 &  8 &  9 &  1 &  5 & ⋯  &  6 & 10 &  2 &  6 &  6 &  2 &  2 &  9 &  6 &  4\\\\\n",
       "\t0.104294288204983x0.498498122673482 &  1 &  7 &  2 &  1 & 10 &  2 &  8 &  9 &  1 &  5 & ⋯  &  6 & 10 &  2 &  6 &  6 &  2 &  2 &  9 &  6 &  4\\\\\n",
       "\t0.814270022092387x0.497975082369521 & 45 & 35 & 44 & 28 & 23 & 38 & 21 & 31 & 24 & 49 & ⋯  & 49 & 48 & 48 & 49 & 46 & 28 & 29 & 22 & 35 & 22\\\\\n",
       "\t0.854365968843922x0.0149538014084101 & 45 & 35 & 44 & 28 & 23 & 38 & 21 & 31 & 24 & 49 & ⋯  & 49 & 48 & 48 & 49 & 46 & 28 & 29 & 22 & 35 & 22\\\\\n",
       "\t0.0314666354097426x0.0387805758509785 &  1 &  7 &  2 &  1 & 10 &  2 &  8 &  9 &  1 &  5 & ⋯  &  6 & 10 &  2 &  6 &  6 &  2 &  2 &  9 &  6 &  4\\\\\n",
       "\t0.580545703647658x0.0884250258095562 & 45 & 35 & 44 & 28 & 23 & 38 & 21 & 31 & 24 & 49 & ⋯  & 49 & 48 & 48 & 49 & 46 & 28 & 29 & 22 & 35 & 22\\\\\n",
       "\\end{tabular}\n"
      ],
      "text/markdown": [
       "\n",
       "| <!--/--> | step_1 | step_2 | step_3 | step_4 | step_5 | step_6 | step_7 | step_8 | step_9 | step_10 | ⋯ | step_91 | step_92 | step_93 | step_94 | step_95 | step_96 | step_97 | step_98 | step_99 | step_100 | \n",
       "|---|---|---|---|---|---|\n",
       "| 0.410693558864295x0.674942613113672 |  1 |  7 |  2 |  1 | 10 |  2 |  8 |  9 |  1 |  5 | ⋯  |  6 | 10 |  2 |  6 |  6 |  2 |  2 |  9 |  6 |  4 | \n",
       "| 0.104294288204983x0.498498122673482 |  1 |  7 |  2 |  1 | 10 |  2 |  8 |  9 |  1 |  5 | ⋯  |  6 | 10 |  2 |  6 |  6 |  2 |  2 |  9 |  6 |  4 | \n",
       "| 0.814270022092387x0.497975082369521 | 45 | 35 | 44 | 28 | 23 | 38 | 21 | 31 | 24 | 49 | ⋯  | 49 | 48 | 48 | 49 | 46 | 28 | 29 | 22 | 35 | 22 | \n",
       "| 0.854365968843922x0.0149538014084101 | 45 | 35 | 44 | 28 | 23 | 38 | 21 | 31 | 24 | 49 | ⋯  | 49 | 48 | 48 | 49 | 46 | 28 | 29 | 22 | 35 | 22 | \n",
       "| 0.0314666354097426x0.0387805758509785 |  1 |  7 |  2 |  1 | 10 |  2 |  8 |  9 |  1 |  5 | ⋯  |  6 | 10 |  2 |  6 |  6 |  2 |  2 |  9 |  6 |  4 | \n",
       "| 0.580545703647658x0.0884250258095562 | 45 | 35 | 44 | 28 | 23 | 38 | 21 | 31 | 24 | 49 | ⋯  | 49 | 48 | 48 | 49 | 46 | 28 | 29 | 22 | 35 | 22 | \n",
       "\n",
       "\n"
      ],
      "text/plain": [
       "                                      step_1 step_2 step_3 step_4 step_5 step_6\n",
       "0.410693558864295x0.674942613113672    1      7      2      1     10      2    \n",
       "0.104294288204983x0.498498122673482    1      7      2      1     10      2    \n",
       "0.814270022092387x0.497975082369521   45     35     44     28     23     38    \n",
       "0.854365968843922x0.0149538014084101  45     35     44     28     23     38    \n",
       "0.0314666354097426x0.0387805758509785  1      7      2      1     10      2    \n",
       "0.580545703647658x0.0884250258095562  45     35     44     28     23     38    \n",
       "                                      step_7 step_8 step_9 step_10 ⋯ step_91\n",
       "0.410693558864295x0.674942613113672    8      9      1      5      ⋯  6     \n",
       "0.104294288204983x0.498498122673482    8      9      1      5      ⋯  6     \n",
       "0.814270022092387x0.497975082369521   21     31     24     49      ⋯ 49     \n",
       "0.854365968843922x0.0149538014084101  21     31     24     49      ⋯ 49     \n",
       "0.0314666354097426x0.0387805758509785  8      9      1      5      ⋯  6     \n",
       "0.580545703647658x0.0884250258095562  21     31     24     49      ⋯ 49     \n",
       "                                      step_92 step_93 step_94 step_95 step_96\n",
       "0.410693558864295x0.674942613113672   10       2       6       6       2     \n",
       "0.104294288204983x0.498498122673482   10       2       6       6       2     \n",
       "0.814270022092387x0.497975082369521   48      48      49      46      28     \n",
       "0.854365968843922x0.0149538014084101  48      48      49      46      28     \n",
       "0.0314666354097426x0.0387805758509785 10       2       6       6       2     \n",
       "0.580545703647658x0.0884250258095562  48      48      49      46      28     \n",
       "                                      step_97 step_98 step_99 step_100\n",
       "0.410693558864295x0.674942613113672    2       9       6       4      \n",
       "0.104294288204983x0.498498122673482    2       9       6       4      \n",
       "0.814270022092387x0.497975082369521   29      22      35      22      \n",
       "0.854365968843922x0.0149538014084101  29      22      35      22      \n",
       "0.0314666354097426x0.0387805758509785  2       9       6       4      \n",
       "0.580545703647658x0.0884250258095562  29      22      35      22      "
      ]
     },
     "metadata": {},
     "output_type": "display_data"
    }
   ],
   "source": [
    "head(data)"
   ]
  },
  {
   "cell_type": "code",
   "execution_count": 9,
   "metadata": {},
   "outputs": [
    {
     "data": {
      "text/html": [
       "<ol class=list-inline>\n",
       "\t<li>1000000</li>\n",
       "\t<li>100</li>\n",
       "</ol>\n"
      ],
      "text/latex": [
       "\\begin{enumerate*}\n",
       "\\item 1000000\n",
       "\\item 100\n",
       "\\end{enumerate*}\n"
      ],
      "text/markdown": [
       "1. 1000000\n",
       "2. 100\n",
       "\n",
       "\n"
      ],
      "text/plain": [
       "[1] 1000000     100"
      ]
     },
     "metadata": {},
     "output_type": "display_data"
    }
   ],
   "source": [
    "dim(data)"
   ]
  },
  {
   "cell_type": "code",
   "execution_count": 12,
   "metadata": {
    "collapsed": true
   },
   "outputs": [],
   "source": [
    "write.csv(data,'simulate/Data/1_million_cells_100genes_counts_1.csv') \n",
    "## all-expression matrix \n"
   ]
  },
  {
   "cell_type": "code",
   "execution_count": 14,
   "metadata": {
    "collapsed": true
   },
   "outputs": [],
   "source": [
    "pp2plot=pp_select(pp,10)"
   ]
  },
  {
   "cell_type": "code",
   "execution_count": 15,
   "metadata": {},
   "outputs": [
    {
     "data": {
      "image/png": "[encoded data removed]",
      "text/plain": [
       "plot without title"
      ]
     },
     "metadata": {},
     "output_type": "display_data"
    }
   ],
   "source": [
    "plot_pp_scatter(pp2plot, log_marks = FALSE, scale_marks = FALSE, pal.direction = -1)"
   ]
  },
  {
   "cell_type": "code",
   "execution_count": null,
   "metadata": {
    "collapsed": true
   },
   "outputs": [],
   "source": []
  },
  {
   "cell_type": "code",
   "execution_count": null,
   "metadata": {
    "collapsed": true
   },
   "outputs": [],
   "source": []
  },
  {
   "cell_type": "code",
   "execution_count": 16,
   "metadata": {
    "collapsed": true
   },
   "outputs": [],
   "source": [
    "data[,c(FALSE,TRUE)]=apply(data[,c(FALSE,TRUE)],2,sort) "
   ]
  },
  {
   "cell_type": "code",
   "execution_count": 17,
   "metadata": {
    "collapsed": true
   },
   "outputs": [],
   "source": [
    "write.csv(data,'simulate/Data/1_million_cells_100genes_counts_0.csv')\n",
    " ## co_expression data"
   ]
  },
  {
   "cell_type": "markdown",
   "metadata": {
    "collapsed": true
   },
   "source": [
    "###### simualtion data are too large to upload to Github (more than 290 MiB). you can create the same dataset, if you rerun the script."
   ]
  },
  {
   "cell_type": "code",
   "execution_count": null,
   "metadata": {
    "collapsed": true
   },
   "outputs": [],
   "source": []
  }
 ],
 "metadata": {
  "kernelspec": {
   "display_name": "R",
   "language": "R",
   "name": "ir"
  },
  "language_info": {
   "codemirror_mode": "r",
   "file_extension": ".r",
   "mimetype": "text/x-r-source",
   "name": "R",
   "pygments_lexer": "r",
   "version": "3.4.3"
  }
 },
 "nbformat": 4,
 "nbformat_minor": 2
}
