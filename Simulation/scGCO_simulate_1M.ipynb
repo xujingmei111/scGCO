{
 "cells": [
  {
   "cell_type": "code",
   "execution_count": 8,
   "metadata": {},
   "outputs": [
    {
     "name": "stdout",
     "output_type": "stream",
     "text": [
      "The memory_profiler extension is already loaded. To reload it, use:\n",
      "  %reload_ext memory_profiler\n"
     ]
    }
   ],
   "source": [
    "import scGCO\n",
    "import time\n",
    "import pandas as pd\n",
    "import numpy as np\n",
    "%load_ext memory_profiler"
   ]
  },
  {
   "cell_type": "code",
   "execution_count": 9,
   "metadata": {
    "scrolled": true
   },
   "outputs": [
    {
     "name": "stdout",
     "output_type": "stream",
     "text": [
      "peak memory: 4570.87 MiB, increment: 0.03 MiB\n"
     ]
    }
   ],
   "source": [
    "ff='Data/1_million_cells_100genes_counts_0.csv'\n",
    "%memit data0 = pd.read_csv(ff, sep=',', index_col = 0,iterator=True)\n",
    "i=1000000\n",
    "data=data0.get_chunk(i)"
   ]
  },
  {
   "cell_type": "code",
   "execution_count": 6,
   "metadata": {},
   "outputs": [
    {
     "data": {
      "text/plain": [
       "(1000000, 100)"
      ]
     },
     "execution_count": 6,
     "metadata": {},
     "output_type": "execute_result"
    }
   ],
   "source": [
    "data.shape"
   ]
  },
  {
   "cell_type": "code",
   "execution_count": null,
   "metadata": {
    "collapsed": true
   },
   "outputs": [],
   "source": [
    "## there will be some time"
   ]
  },
  {
   "cell_type": "code",
   "execution_count": 4,
   "metadata": {},
   "outputs": [
    {
     "name": "stderr",
     "output_type": "stream",
     "text": [
      "100%|██████████| 8/8 [35:15<00:00, 223.05s/it]   \n",
      "100%|██████████| 8/8 [3:10:16<00:00, 843.10s/it]    \n"
     ]
    }
   ],
   "source": [
    "temp = [val.split('x') for val in data.index.values]\n",
    "coord = np.array([[float(a[0]), float(a[1])] for a in temp])\n",
    "\n",
    "locs=coord\n",
    "sub_data=data\n",
    "sub_data = sub_data.loc[:,(sub_data != 0).astype(int).sum(axis=0) >= 10]    \n",
    "data_norm = scGCO.normalize_count_cellranger(sub_data)\n",
    "\n",
    "factor_df, size_factor = scGCO.estimate_smooth_factor(locs, data_norm)\n",
    "\n",
    "start = time.time()\n",
    "result_df = scGCO.identify_spatial_genes(locs, data_norm, size_factor)\n",
    "end = time.time()\n",
    "t=end-start"
   ]
  },
  {
   "cell_type": "code",
   "execution_count": 7,
   "metadata": {},
   "outputs": [
    {
     "name": "stdout",
     "output_type": "stream",
     "text": [
      "senconds to run:  11476.14643406868\n"
     ]
    }
   ],
   "source": [
    "print('senconds to run: ',t)"
   ]
  },
  {
   "cell_type": "code",
   "execution_count": null,
   "metadata": {
    "collapsed": true
   },
   "outputs": [],
   "source": []
  },
  {
   "cell_type": "code",
   "execution_count": null,
   "metadata": {
    "collapsed": true
   },
   "outputs": [],
   "source": []
  },
  {
   "cell_type": "code",
   "execution_count": null,
   "metadata": {
    "collapsed": true
   },
   "outputs": [],
   "source": []
  },
  {
   "cell_type": "code",
   "execution_count": null,
   "metadata": {
    "collapsed": true
   },
   "outputs": [],
   "source": []
  },
  {
   "cell_type": "code",
   "execution_count": null,
   "metadata": {
    "collapsed": true
   },
   "outputs": [],
   "source": []
  }
 ],
 "metadata": {
  "kernelspec": {
   "display_name": "Python 3",
   "language": "python",
   "name": "python3"
  },
  "language_info": {
   "codemirror_mode": {
    "name": "ipython",
    "version": 3
   },
   "file_extension": ".py",
   "mimetype": "text/x-python",
   "name": "python",
   "nbconvert_exporter": "python",
   "pygments_lexer": "ipython3",
   "version": "3.6.5"
  }
 },
 "nbformat": 4,
 "nbformat_minor": 2
}
