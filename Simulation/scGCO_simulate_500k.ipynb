{
 "cells": [
  {
   "cell_type": "code",
   "execution_count": 3,
   "metadata": {
    "collapsed": true
   },
   "outputs": [],
   "source": [
    "import scGCO\n",
    "import time\n",
    "import pandas as pd\n",
    "import numpy as np\n",
    "%load_ext memory_profiler"
   ]
  },
  {
   "cell_type": "code",
   "execution_count": 4,
   "metadata": {},
   "outputs": [
    {
     "name": "stdout",
     "output_type": "stream",
     "text": [
      "peak memory: 143.41 MiB, increment: 4.91 MiB\n"
     ]
    }
   ],
   "source": [
    "\n",
    "ff='Data/1_million_cells_100genes_counts_0.csv'\n",
    "%memit data0 = pd.read_csv(ff, sep=',', index_col = 0,iterator=True)\n",
    "i=500000\n",
    "data=data0.get_chunk(i)"
   ]
  },
  {
   "cell_type": "code",
   "execution_count": 6,
   "metadata": {},
   "outputs": [
    {
     "data": {
      "text/plain": [
       "(500000, 100)"
      ]
     },
     "execution_count": 6,
     "metadata": {},
     "output_type": "execute_result"
    }
   ],
   "source": [
    "data.shape"
   ]
  },
  {
   "cell_type": "code",
   "execution_count": 5,
   "metadata": {},
   "outputs": [
    {
     "name": "stderr",
     "output_type": "stream",
     "text": [
      "100%|██████████| 8/8 [15:16<00:00, 194.61s/it]  \n",
      "100%|██████████| 8/8 [1:13:36<00:00, 326.78s/it]   \n"
     ]
    },
    {
     "name": "stdout",
     "output_type": "stream",
     "text": [
      "4444.789970874786\n"
     ]
    }
   ],
   "source": [
    "temp = [val.split('x') for val in data.index.values]\n",
    "coord = np.array([[float(a[0]), float(a[1])] for a in temp])\n",
    "\n",
    "locs=coord\n",
    "sub_data=data\n",
    "sub_data = sub_data.loc[:,(sub_data != 0).astype(int).sum(axis=0) >= 10]    \n",
    "data_norm = scGCO.normalize_count_cellranger(sub_data)\n",
    "\n",
    "factor_df, size_factor = scGCO.estimate_smooth_factor(locs, data_norm)\n",
    "\n",
    "start = time.time()\n",
    "result_df = scGCO.identify_spatial_genes(locs, data_norm, size_factor)\n",
    "end = time.time()\n",
    "t=end-start\n"
   ]
  },
  {
   "cell_type": "code",
   "execution_count": 7,
   "metadata": {},
   "outputs": [
    {
     "name": "stdout",
     "output_type": "stream",
     "text": [
      "senconds to run:  4444.789970874786\n"
     ]
    }
   ],
   "source": [
    "print('senconds to run: ',t)"
   ]
  },
  {
   "cell_type": "code",
   "execution_count": null,
   "metadata": {
    "collapsed": true
   },
   "outputs": [],
   "source": []
  },
  {
   "cell_type": "code",
   "execution_count": null,
   "metadata": {
    "collapsed": true
   },
   "outputs": [],
   "source": []
  },
  {
   "cell_type": "code",
   "execution_count": null,
   "metadata": {
    "collapsed": true
   },
   "outputs": [],
   "source": []
  },
  {
   "cell_type": "code",
   "execution_count": null,
   "metadata": {
    "collapsed": true
   },
   "outputs": [],
   "source": []
  },
  {
   "cell_type": "code",
   "execution_count": null,
   "metadata": {
    "collapsed": true
   },
   "outputs": [],
   "source": []
  }
 ],
 "metadata": {
  "kernelspec": {
   "display_name": "Python 3",
   "language": "python",
   "name": "python3"
  },
  "language_info": {
   "codemirror_mode": {
    "name": "ipython",
    "version": 3
   },
   "file_extension": ".py",
   "mimetype": "text/x-python",
   "name": "python",
   "nbconvert_exporter": "python",
   "pygments_lexer": "ipython3",
   "version": "3.6.5"
  }
 },
 "nbformat": 4,
 "nbformat_minor": 2
}
