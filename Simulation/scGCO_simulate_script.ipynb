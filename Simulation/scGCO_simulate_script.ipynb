{
 "cells": [
  {
   "cell_type": "code",
   "execution_count": 1,
   "metadata": {
    "collapsed": true
   },
   "outputs": [],
   "source": [
    "import scGCO\n",
    "import time\n",
    "import pandas as pd\n",
    "import numpy as np\n",
    "%load_ext memory_profiler\n"
   ]
  },
  {
   "cell_type": "code",
   "execution_count": 2,
   "metadata": {
    "collapsed": true
   },
   "outputs": [],
   "source": [
    "nc=[]\n",
    "tt =[]\n",
    "import time\n",
    "n_cell=[100,250,500,1000,1500,5000,10000]\n",
    "for i in n_cell:\n",
    "    ff='Data/10k_cells_100genes_counts_0.csv'\n",
    "    data0 = pd.read_csv(ff, sep=',', index_col = 0,iterator=True)\n",
    "    data=data0.get_chunk(i)\n",
    "    \n",
    "    temp = [val.split('x') for val in data.index.values]\n",
    "    coord = np.array([[float(a[0]), float(a[1])] for a in temp])\n",
    "\n",
    "    locs=coord\n",
    "    sub_data=data\n",
    "    sub_data = sub_data.loc[:,(sub_data != 0).astype(int).sum(axis=0) >= 10]    \n",
    "    data_norm = scGCO.normalize_count_cellranger(sub_data)\n",
    "\n",
    "    factor_df, size_factor = scGCO.estimate_smooth_factor(locs, data_norm)\n",
    "\n",
    "    start = time.time()\n",
    "    %memit result_df = scGCO.identify_spatial_genes(locs, data_norm, size_factor)\n",
    "    end = time.time()\n",
    "    t=end-start\n",
    "    \n",
    "    nc.append(int(i))\n",
    "    tt.append(t)\n",
    "     "
   ]
  },
  {
   "cell_type": "code",
   "execution_count": 4,
   "metadata": {},
   "outputs": [
    {
     "data": {
      "text/plain": [
       "[1.388200044631958,\n",
       " 2.1948018074035645,\n",
       " 3.681540012359619,\n",
       " 6.351463556289673,\n",
       " 11.330513000488281,\n",
       " 36.01528239250183,\n",
       " 65.68832039833069]"
      ]
     },
     "execution_count": 4,
     "metadata": {},
     "output_type": "execute_result"
    }
   ],
   "source": [
    "tt"
   ]
  },
  {
   "cell_type": "code",
   "execution_count": 6,
   "metadata": {},
   "outputs": [
    {
     "data": {
      "text/plain": [
       "[100, 250, 500, 1000, 1500, 5000, 10000]"
      ]
     },
     "execution_count": 6,
     "metadata": {},
     "output_type": "execute_result"
    }
   ],
   "source": [
    "nc"
   ]
  },
  {
   "cell_type": "code",
   "execution_count": 7,
   "metadata": {
    "collapsed": true
   },
   "outputs": [],
   "source": [
    "memory=np.array([144.16 ,146.45,149.16,164.26,181.04,249.53 ,356.57 ])"
   ]
  },
  {
   "cell_type": "code",
   "execution_count": 10,
   "metadata": {
    "collapsed": true
   },
   "outputs": [],
   "source": [
    "df=pd.DataFrame({'n.cells':nc,'n.genes':100,'time_s':tt,'memory':memory})"
   ]
  },
  {
   "cell_type": "code",
   "execution_count": 11,
   "metadata": {},
   "outputs": [
    {
     "data": {
      "text/html": [
       "<div>\n",
       "<style scoped>\n",
       "    .dataframe tbody tr th:only-of-type {\n",
       "        vertical-align: middle;\n",
       "    }\n",
       "\n",
       "    .dataframe tbody tr th {\n",
       "        vertical-align: top;\n",
       "    }\n",
       "\n",
       "    .dataframe thead th {\n",
       "        text-align: right;\n",
       "    }\n",
       "</style>\n",
       "<table border=\"1\" class=\"dataframe\">\n",
       "  <thead>\n",
       "    <tr style=\"text-align: right;\">\n",
       "      <th></th>\n",
       "      <th>n.cells</th>\n",
       "      <th>n.genes</th>\n",
       "      <th>time_s</th>\n",
       "      <th>memory</th>\n",
       "    </tr>\n",
       "  </thead>\n",
       "  <tbody>\n",
       "    <tr>\n",
       "      <th>0</th>\n",
       "      <td>100</td>\n",
       "      <td>100</td>\n",
       "      <td>1.388200</td>\n",
       "      <td>144.16</td>\n",
       "    </tr>\n",
       "    <tr>\n",
       "      <th>1</th>\n",
       "      <td>250</td>\n",
       "      <td>100</td>\n",
       "      <td>2.194802</td>\n",
       "      <td>146.45</td>\n",
       "    </tr>\n",
       "    <tr>\n",
       "      <th>2</th>\n",
       "      <td>500</td>\n",
       "      <td>100</td>\n",
       "      <td>3.681540</td>\n",
       "      <td>149.16</td>\n",
       "    </tr>\n",
       "    <tr>\n",
       "      <th>3</th>\n",
       "      <td>1000</td>\n",
       "      <td>100</td>\n",
       "      <td>6.351464</td>\n",
       "      <td>164.26</td>\n",
       "    </tr>\n",
       "    <tr>\n",
       "      <th>4</th>\n",
       "      <td>1500</td>\n",
       "      <td>100</td>\n",
       "      <td>11.330513</td>\n",
       "      <td>181.04</td>\n",
       "    </tr>\n",
       "    <tr>\n",
       "      <th>5</th>\n",
       "      <td>5000</td>\n",
       "      <td>100</td>\n",
       "      <td>36.015282</td>\n",
       "      <td>249.53</td>\n",
       "    </tr>\n",
       "    <tr>\n",
       "      <th>6</th>\n",
       "      <td>10000</td>\n",
       "      <td>100</td>\n",
       "      <td>65.688320</td>\n",
       "      <td>356.57</td>\n",
       "    </tr>\n",
       "  </tbody>\n",
       "</table>\n",
       "</div>"
      ],
      "text/plain": [
       "   n.cells  n.genes     time_s  memory\n",
       "0      100      100   1.388200  144.16\n",
       "1      250      100   2.194802  146.45\n",
       "2      500      100   3.681540  149.16\n",
       "3     1000      100   6.351464  164.26\n",
       "4     1500      100  11.330513  181.04\n",
       "5     5000      100  36.015282  249.53\n",
       "6    10000      100  65.688320  356.57"
      ]
     },
     "execution_count": 11,
     "metadata": {},
     "output_type": "execute_result"
    }
   ],
   "source": [
    "df"
   ]
  },
  {
   "cell_type": "code",
   "execution_count": null,
   "metadata": {
    "collapsed": true
   },
   "outputs": [],
   "source": []
  }
 ],
 "metadata": {
  "kernelspec": {
   "display_name": "Python 3",
   "language": "python",
   "name": "python3"
  },
  "language_info": {
   "codemirror_mode": {
    "name": "ipython",
    "version": 3
   },
   "file_extension": ".py",
   "mimetype": "text/x-python",
   "name": "python",
   "nbconvert_exporter": "python",
   "pygments_lexer": "ipython3",
   "version": "3.6.5"
  }
 },
 "nbformat": 4,
 "nbformat_minor": 2
}
