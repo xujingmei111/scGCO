{
 "cells": [
  {
   "cell_type": "code",
   "execution_count": 1,
   "metadata": {
    "collapsed": true
   },
   "outputs": [],
   "source": [
    "import numpy as np\n",
    "import pandas as pd\n",
    "import time\n",
    "import memory_profiler\n",
    "%load_ext memory_profiler\n",
    "\n",
    "import NaiveDE\n",
    "import SpatialDE\n",
    "\n",
    "\n",
    "def get_coords(index):\n",
    "    coords = pd.DataFrame(index=index)\n",
    "    coords['x'] = index.str.split('x').str.get(0).map(float)\n",
    "    coords['y'] = index.str.split('x').str.get(1).map(float)\n",
    "    return coords\n"
   ]
  },
  {
   "cell_type": "code",
   "execution_count": 2,
   "metadata": {
    "collapsed": true
   },
   "outputs": [],
   "source": [
    "nc=[]\n",
    "tt =[]\n",
    "import time"
   ]
  },
  {
   "cell_type": "code",
   "execution_count": 3,
   "metadata": {
    "scrolled": true
   },
   "outputs": [
    {
     "name": "stderr",
     "output_type": "stream",
     "text": [
      "INFO:root:Performing DE test\n",
      "/home/covo/anaconda3/envs/py3+R/lib/python3.6/site-packages/SpatialDE/base.py:278: RuntimeWarning: divide by zero encountered in log\n",
      "  max_ll = -0.5 * ( n * np.log(max_s2_e_hat) + sum1 / max_s2_e_hat + n * np.log(2 * np.pi) )\n",
      "/home/covo/anaconda3/envs/py3+R/lib/python3.6/site-packages/SpatialDE/base.py:278: RuntimeWarning: invalid value encountered in double_scalars\n",
      "  max_ll = -0.5 * ( n * np.log(max_s2_e_hat) + sum1 / max_s2_e_hat + n * np.log(2 * np.pi) )\n",
      "INFO:root:Pre-calculating USU^T = K's ...\n",
      "INFO:root:Done: 0.041s\n",
      "INFO:root:Fitting gene models\n",
      "INFO:root:Model 1 of 10\n",
      "INFO:root:Model 2 of 10                          \n",
      "INFO:root:Model 3 of 10                          \n",
      "INFO:root:Model 4 of 10                          \n",
      "INFO:root:Model 5 of 10                          \n",
      "INFO:root:Model 6 of 10                          \n",
      "INFO:root:Model 7 of 10                          \n",
      "INFO:root:Model 8 of 10                          \n",
      "INFO:root:Model 9 of 10                          \n",
      "INFO:root:Model 10 of 10                         \n",
      "/home/covo/anaconda3/envs/py3+R/lib/python3.6/site-packages/SpatialDE/base.py:399: FutureWarning: Sorting because non-concatenation axis is not aligned. A future version\n",
      "of pandas will change to not sort by default.\n",
      "\n",
      "To accept the future behavior, pass 'sort=True'.\n",
      "\n",
      "To retain the current behavior and silence the warning, pass sort=False\n",
      "\n",
      "  results = pd.concat(results).reset_index(drop=True)\n",
      "/home/covo/anaconda3/envs/py3+R/lib/python3.6/site-packages/scipy/stats/_distn_infrastructure.py:879: RuntimeWarning: invalid value encountered in greater\n",
      "  return (self.a < x) & (x < self.b)\n",
      "/home/covo/anaconda3/envs/py3+R/lib/python3.6/site-packages/scipy/stats/_distn_infrastructure.py:879: RuntimeWarning: invalid value encountered in less\n",
      "  return (self.a < x) & (x < self.b)\n",
      "/home/covo/anaconda3/envs/py3+R/lib/python3.6/site-packages/scipy/stats/_distn_infrastructure.py:1738: RuntimeWarning: invalid value encountered in greater_equal\n",
      "  cond2 = (x >= self.b) & cond0\n",
      "/home/covo/anaconda3/envs/py3+R/lib/python3.6/site-packages/SpatialDE/util.py:32: RuntimeWarning: invalid value encountered in greater\n",
      "  counts = sp.array([(pv > i).sum() for i in sp.arange(0, 0.9, 0.01)])\n"
     ]
    },
    {
     "name": "stdout",
     "output_type": "stream",
     "text": [
      "peak memory: 109.96 MiB, increment: 3.93 MiB\n"
     ]
    },
    {
     "name": "stderr",
     "output_type": "stream",
     "text": [
      "INFO:root:Performing DE test\n",
      "INFO:root:Pre-calculating USU^T = K's ...\n",
      "INFO:root:Done: 0.12s\n",
      "INFO:root:Fitting gene models\n",
      "INFO:root:Model 1 of 10\n",
      "INFO:root:Model 2 of 10                          \n",
      "INFO:root:Model 3 of 10                          \n",
      "INFO:root:Model 4 of 10                          \n",
      "INFO:root:Model 5 of 10                          \n",
      "INFO:root:Model 6 of 10                          \n",
      "INFO:root:Model 7 of 10                          \n",
      "INFO:root:Model 8 of 10                          \n",
      "INFO:root:Model 9 of 10                          \n",
      "INFO:root:Model 10 of 10                         \n",
      "                                                 \r"
     ]
    },
    {
     "name": "stdout",
     "output_type": "stream",
     "text": [
      "peak memory: 118.01 MiB, increment: 7.24 MiB\n"
     ]
    },
    {
     "name": "stderr",
     "output_type": "stream",
     "text": [
      "INFO:root:Performing DE test\n",
      "INFO:root:Pre-calculating USU^T = K's ...\n",
      "INFO:root:Done: 0.58s\n",
      "INFO:root:Fitting gene models\n",
      "INFO:root:Model 1 of 10\n",
      "INFO:root:Model 2 of 10                          \n",
      "INFO:root:Model 3 of 10                          \n",
      "INFO:root:Model 4 of 10                          \n",
      "INFO:root:Model 5 of 10                          \n",
      "INFO:root:Model 6 of 10                          \n",
      "INFO:root:Model 7 of 10                          \n",
      "INFO:root:Model 8 of 10                          \n",
      "INFO:root:Model 9 of 10                          \n",
      "INFO:root:Model 10 of 10                         \n",
      "                                                 \r"
     ]
    },
    {
     "name": "stdout",
     "output_type": "stream",
     "text": [
      "peak memory: 143.00 MiB, increment: 30.44 MiB\n"
     ]
    },
    {
     "name": "stderr",
     "output_type": "stream",
     "text": [
      "INFO:root:Performing DE test\n",
      "INFO:root:Pre-calculating USU^T = K's ...\n",
      "INFO:root:Done: 2.4s\n",
      "INFO:root:Fitting gene models\n",
      "INFO:root:Model 1 of 10\n",
      "INFO:root:Model 2 of 10                          \n",
      "INFO:root:Model 3 of 10                          \n",
      "INFO:root:Model 4 of 10                          \n",
      "INFO:root:Model 5 of 10                          \n",
      "INFO:root:Model 6 of 10                          \n",
      "INFO:root:Model 7 of 10                          \n",
      "INFO:root:Model 8 of 10                          \n",
      "INFO:root:Model 9 of 10                          \n",
      "INFO:root:Model 10 of 10                         \n",
      "                                                 \r"
     ]
    },
    {
     "name": "stdout",
     "output_type": "stream",
     "text": [
      "peak memory: 234.04 MiB, increment: 115.95 MiB\n"
     ]
    },
    {
     "name": "stderr",
     "output_type": "stream",
     "text": [
      "INFO:root:Performing DE test\n",
      "INFO:root:Pre-calculating USU^T = K's ...\n",
      "INFO:root:Done: 7.5s\n",
      "INFO:root:Fitting gene models\n",
      "INFO:root:Model 1 of 10\n",
      "INFO:root:Model 2 of 10                         \n",
      "INFO:root:Model 3 of 10                          \n",
      "INFO:root:Model 4 of 10                          \n",
      "INFO:root:Model 5 of 10                          \n",
      "INFO:root:Model 6 of 10                          \n",
      "INFO:root:Model 7 of 10                          \n",
      "INFO:root:Model 8 of 10                          \n",
      "INFO:root:Model 9 of 10                          \n",
      "INFO:root:Model 10 of 10                         \n",
      "                                                 \r"
     ]
    },
    {
     "name": "stdout",
     "output_type": "stream",
     "text": [
      "peak memory: 386.53 MiB, increment: 260.83 MiB\n"
     ]
    },
    {
     "name": "stderr",
     "output_type": "stream",
     "text": [
      "INFO:root:Performing DE test\n",
      "INFO:root:Pre-calculating USU^T = K's ...\n",
      "INFO:root:Done: 2.3e+02s\n",
      "INFO:root:Fitting gene models\n",
      "INFO:root:Model 1 of 10\n",
      "INFO:root:Model 2 of 10                         \n",
      "INFO:root:Model 3 of 10                         \n",
      "INFO:root:Model 4 of 10                          \n",
      "INFO:root:Model 5 of 10                         \n",
      "INFO:root:Model 6 of 10                         \n",
      "INFO:root:Model 7 of 10                         \n",
      "INFO:root:Model 8 of 10                         \n",
      "INFO:root:Model 9 of 10                         \n",
      "INFO:root:Model 10 of 10                        \n",
      "                                                \r"
     ]
    },
    {
     "name": "stdout",
     "output_type": "stream",
     "text": [
      "peak memory: 2775.26 MiB, increment: 2628.93 MiB\n"
     ]
    },
    {
     "name": "stderr",
     "output_type": "stream",
     "text": [
      "INFO:root:Performing DE test\n",
      "INFO:root:Pre-calculating USU^T = K's ...\n",
      "INFO:root:Done: 1.9e+03s\n",
      "INFO:root:Fitting gene models\n",
      "INFO:root:Model 1 of 10\n",
      "INFO:root:Model 2 of 10                          \n",
      "INFO:root:Model 3 of 10                          \n",
      "INFO:root:Model 4 of 10                          \n",
      "INFO:root:Model 5 of 10                          \n",
      "INFO:root:Model 6 of 10                          \n",
      "INFO:root:Model 7 of 10                          \n",
      "INFO:root:Model 8 of 10                          \n",
      "INFO:root:Model 9 of 10                          \n",
      "INFO:root:Model 10 of 10                         \n",
      "                                                 \r"
     ]
    },
    {
     "name": "stdout",
     "output_type": "stream",
     "text": [
      "peak memory: 10872.72 MiB, increment: 10691.07 MiB\n"
     ]
    }
   ],
   "source": [
    "n_cell=[100,250,500,1000,1500,5000,10000]\n",
    "\n",
    "for i in n_cell:\n",
    "    ff='Data/10k_cells_100genes_counts_0.csv'\n",
    "    df_0 = pd.read_csv(ff,sep=',', index_col = 0, iterator=True)\n",
    "\n",
    "    df=df_0.get_chunk(i)\n",
    "    df = df.T[df.sum(0) >= 3].T   \n",
    "   \n",
    "    sample_info = get_coords(df.index)\n",
    "    sample_info['total_counts'] = df.sum(1)\n",
    "    sample_info = sample_info.query('total_counts > 10')  # Remove empty features\n",
    "    \n",
    "\n",
    "    df = df.loc[sample_info.index]     # Align count matrix with metadata table\n",
    "    X = sample_info[['x', 'y']]\n",
    "\n",
    "# Convert data to log-scale, and account for depth\n",
    "    dfm = NaiveDE.stabilize(df.T).T\n",
    "    res = NaiveDE.regress_out(sample_info, dfm.T, 'np.log(total_counts)').T\n",
    "\n",
    "# Add total_count as pseudogene for reference\n",
    "    res['log_total_count'] = np.log(sample_info['total_counts'])\n",
    "\n",
    "# Perform Spatial DE test with default settings\n",
    "    start=time.time()\n",
    "    %memit results = SpatialDE.run(X, res)\n",
    "    finish=time.time()\n",
    "    t=finish-start                # 15706 \n",
    "    \n",
    "    nc.append(int(i))    \n",
    "    tt.append(t)\n"
   ]
  },
  {
   "cell_type": "code",
   "execution_count": 4,
   "metadata": {},
   "outputs": [
    {
     "data": {
      "text/plain": [
       "[3.78774356842041,\n",
       " 4.402992248535156,\n",
       " 5.221548795700073,\n",
       " 7.5988616943359375,\n",
       " 15.450058460235596,\n",
       " 256.7932643890381,\n",
       " 1967.3115754127502]"
      ]
     },
     "execution_count": 4,
     "metadata": {},
     "output_type": "execute_result"
    }
   ],
   "source": [
    "tt"
   ]
  },
  {
   "cell_type": "code",
   "execution_count": 5,
   "metadata": {
    "collapsed": true
   },
   "outputs": [],
   "source": [
    "memory=[109.96,118.01 ,143.00,234.04 , 386.53, 2775.26,10872.72 ]"
   ]
  },
  {
   "cell_type": "code",
   "execution_count": 6,
   "metadata": {
    "collapsed": true
   },
   "outputs": [],
   "source": [
    "time=pd.DataFrame({'n.cells':nc,'n.genes':100,'time_s':tt,'Memory_MiB':memory})"
   ]
  },
  {
   "cell_type": "code",
   "execution_count": 7,
   "metadata": {},
   "outputs": [
    {
     "data": {
      "text/html": [
       "<div>\n",
       "<style scoped>\n",
       "    .dataframe tbody tr th:only-of-type {\n",
       "        vertical-align: middle;\n",
       "    }\n",
       "\n",
       "    .dataframe tbody tr th {\n",
       "        vertical-align: top;\n",
       "    }\n",
       "\n",
       "    .dataframe thead th {\n",
       "        text-align: right;\n",
       "    }\n",
       "</style>\n",
       "<table border=\"1\" class=\"dataframe\">\n",
       "  <thead>\n",
       "    <tr style=\"text-align: right;\">\n",
       "      <th></th>\n",
       "      <th>n.cells</th>\n",
       "      <th>n.genes</th>\n",
       "      <th>time_s</th>\n",
       "      <th>Memory_MiB</th>\n",
       "    </tr>\n",
       "  </thead>\n",
       "  <tbody>\n",
       "    <tr>\n",
       "      <th>0</th>\n",
       "      <td>100</td>\n",
       "      <td>100</td>\n",
       "      <td>3.787744</td>\n",
       "      <td>109.96</td>\n",
       "    </tr>\n",
       "    <tr>\n",
       "      <th>1</th>\n",
       "      <td>250</td>\n",
       "      <td>100</td>\n",
       "      <td>4.402992</td>\n",
       "      <td>118.01</td>\n",
       "    </tr>\n",
       "    <tr>\n",
       "      <th>2</th>\n",
       "      <td>500</td>\n",
       "      <td>100</td>\n",
       "      <td>5.221549</td>\n",
       "      <td>143.00</td>\n",
       "    </tr>\n",
       "    <tr>\n",
       "      <th>3</th>\n",
       "      <td>1000</td>\n",
       "      <td>100</td>\n",
       "      <td>7.598862</td>\n",
       "      <td>234.04</td>\n",
       "    </tr>\n",
       "    <tr>\n",
       "      <th>4</th>\n",
       "      <td>1500</td>\n",
       "      <td>100</td>\n",
       "      <td>15.450058</td>\n",
       "      <td>386.53</td>\n",
       "    </tr>\n",
       "    <tr>\n",
       "      <th>5</th>\n",
       "      <td>5000</td>\n",
       "      <td>100</td>\n",
       "      <td>256.793264</td>\n",
       "      <td>2775.26</td>\n",
       "    </tr>\n",
       "    <tr>\n",
       "      <th>6</th>\n",
       "      <td>10000</td>\n",
       "      <td>100</td>\n",
       "      <td>1967.311575</td>\n",
       "      <td>10872.72</td>\n",
       "    </tr>\n",
       "  </tbody>\n",
       "</table>\n",
       "</div>"
      ],
      "text/plain": [
       "   n.cells  n.genes       time_s  Memory_MiB\n",
       "0      100      100     3.787744      109.96\n",
       "1      250      100     4.402992      118.01\n",
       "2      500      100     5.221549      143.00\n",
       "3     1000      100     7.598862      234.04\n",
       "4     1500      100    15.450058      386.53\n",
       "5     5000      100   256.793264     2775.26\n",
       "6    10000      100  1967.311575    10872.72"
      ]
     },
     "execution_count": 7,
     "metadata": {},
     "output_type": "execute_result"
    }
   ],
   "source": [
    "time"
   ]
  },
  {
   "cell_type": "code",
   "execution_count": null,
   "metadata": {
    "collapsed": true
   },
   "outputs": [],
   "source": []
  }
 ],
 "metadata": {
  "kernelspec": {
   "display_name": "Python 3",
   "language": "python",
   "name": "python3"
  },
  "language_info": {
   "codemirror_mode": {
    "name": "ipython",
    "version": 3
   },
   "file_extension": ".py",
   "mimetype": "text/x-python",
   "name": "python",
   "nbconvert_exporter": "python",
   "pygments_lexer": "ipython3",
   "version": "3.6.5"
  }
 },
 "nbformat": 4,
 "nbformat_minor": 2
}
