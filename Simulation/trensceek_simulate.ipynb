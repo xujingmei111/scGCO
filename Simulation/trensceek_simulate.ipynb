{
 "cells": [
  {
   "cell_type": "code",
   "execution_count": null,
   "metadata": {},
   "outputs": [
    {
     "name": "stderr",
     "output_type": "stream",
     "text": [
      "Warning message in BiocParallel::MulticoreParam(workers = ncores):\n",
      "\"MulticoreParam() not supported on Windows, use SnowParam()\""
     ]
    },
    {
     "name": "stdout",
     "output_type": "stream",
     "text": [
      "[1] 1\n",
      "[1] \"Emark\"\n",
      "[1] \"markcorr\"\n",
      "[1] \"markvario\"\n",
      "[1] \"Vmark\"\n",
      "[1] 2\n",
      "[1] \"Emark\"\n",
      "[1] \"markcorr\"\n",
      "[1] \"markvario\"\n",
      "[1] \"Vmark\"\n"
     ]
    },
    {
     "name": "stderr",
     "output_type": "stream",
     "text": [
      "Warning message in BiocParallel::MulticoreParam(workers = ncores):\n",
      "\"MulticoreParam() not supported on Windows, use SnowParam()\""
     ]
    },
    {
     "name": "stdout",
     "output_type": "stream",
     "text": [
      "[1] 1\n",
      "[1] \"Emark\"\n",
      "[1] \"markcorr\"\n",
      "[1] \"markvario\"\n",
      "[1] \"Vmark\"\n",
      "[1] 2\n",
      "[1] \"Emark\"\n",
      "[1] \"markcorr\"\n",
      "[1] \"markvario\"\n",
      "[1] \"Vmark\"\n"
     ]
    },
    {
     "name": "stderr",
     "output_type": "stream",
     "text": [
      "Warning message in BiocParallel::MulticoreParam(workers = ncores):\n",
      "\"MulticoreParam() not supported on Windows, use SnowParam()\""
     ]
    }
   ],
   "source": [
    "##Load library\n",
    "library(\"trendsceek\")\n",
    "library(\"dplyr\")\n",
    "##Layer\n",
    "t=c()\n",
    "m=c()\n",
    "index=c()\n",
    "num_cells=c(100,250,500,1000,1500)\n",
    "for (i in 1:3){\n",
    "    ff=\"Data/10k_cells_100genes_counts_0.csv\"\n",
    "    data= read.csv(ff,header = TRUE,row.names=1,nrows=num_cells[i])\n",
    "\n",
    "    ##Select 500 genes \n",
    "    counts =t(data[,1:100])\n",
    "    pos <-strsplit(colnames(counts),\"x\")\n",
    "    x <-as.double(sapply(pos, \"[\",1))\n",
    "    y <-as.double(sapply(pos, \"[\",2))\n",
    "    a_mat<-data.frame(x,y)\n",
    "    pp = pos2pp(a_mat)\n",
    "    ##Set marks as the logged normalized gene expression \n",
    "    log.fcn = log10\n",
    "    pp2plot = set_marks(pp, counts, log.fcn = log.fcn)\n",
    "    ##set parameters\n",
    "    nrand = 10000\n",
    "    ncores = 1\n",
    "    ##run\n",
    "    t0=Sys.time()\n",
    "    trendstat_list = trendsceek_test(pp2plot, nrand, ncores)\n",
    "    t1=Sys.time()\n",
    "    m1=memory.size(max=TRUE)\n",
    "    t[i]=as.numeric(difftime(t1,t0,units = \"secs\"))\n",
    "    m[i]=m1\n",
    "    index[i]=paste(num_cells[i],\"cells\",sep = \"\")\n",
    "}\n",
    "results=data.frame(t,m,row.names=index)\n",
    "finaloo=\"trendsceek-results2.csv\"\n",
    "write.csv(results,finaloo)"
   ]
  },
  {
   "cell_type": "code",
   "execution_count": null,
   "metadata": {
    "collapsed": true
   },
   "outputs": [],
   "source": []
  }
 ],
 "metadata": {
  "kernelspec": {
   "display_name": "R",
   "language": "R",
   "name": "ir"
  },
  "language_info": {
   "codemirror_mode": "r",
   "file_extension": ".r",
   "mimetype": "text/x-r-source",
   "name": "R",
   "pygments_lexer": "r",
   "version": "3.4.3"
  }
 },
 "nbformat": 4,
 "nbformat_minor": 2
}
